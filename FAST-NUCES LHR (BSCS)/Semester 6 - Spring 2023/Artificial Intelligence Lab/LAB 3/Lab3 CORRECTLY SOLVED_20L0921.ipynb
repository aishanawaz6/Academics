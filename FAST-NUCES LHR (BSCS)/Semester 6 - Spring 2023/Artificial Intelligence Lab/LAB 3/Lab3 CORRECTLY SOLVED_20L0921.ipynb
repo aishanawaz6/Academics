{
  "nbformat": 4,
  "nbformat_minor": 0,
  "metadata": {
    "colab": {
      "provenance": []
    },
    "kernelspec": {
      "name": "python3",
      "display_name": "Python 3"
    },
    "language_info": {
      "name": "python"
    }
  },
  "cells": [
    {
      "cell_type": "code",
      "execution_count": null,
      "metadata": {
        "colab": {
          "base_uri": "https://localhost:8080/"
        },
        "id": "gyuXgCmVdAnM",
        "outputId": "2c76161f-9857-4f5b-c8d8-1c5c4ebdab59"
      },
      "outputs": [
        {
          "output_type": "stream",
          "name": "stdout",
          "text": [
            "Enter String: Racecar\n",
            "['racecar']\n",
            "['racecar']\n",
            "STRING IS PALINDROME\n"
          ]
        }
      ],
      "source": [
        "#AISHA MUHAMMAD NAWAZ 20L-0921 BSCS 6E1 AI LAB 3\n",
        "\n",
        "# 1 Palindrome Detection (5 Marks)\n",
        "#Given a string s, create a function to detect if it's a palindrome. A palindrome is a word,\n",
        "#phrase, number, or other sequence of characters that reads the same backward or forward.\n",
        "def findIfPalindrome(mystr):\n",
        "  temp=[] # creating a temp list\n",
        "\n",
        "  mystr=mystr.lower() # converting input to lowercase so that for e.g Racecar can be accepted\n",
        "\n",
        "  mystr2=list(mystr.split(\" \")) # converting to list form from string\n",
        "\n",
        "  temp[::1]=mystr2[::-1] # saving the list in reverse order\n",
        "\n",
        "  print(mystr2)\n",
        "  \n",
        "  print(temp)\n",
        "  if mystr2==temp:\n",
        "     return True\n",
        "  else:\n",
        "     return False\n",
        "\n",
        "str=[]\n",
        "str=input(\"Enter String: \")\n",
        "\n",
        "if(findIfPalindrome(str)==1):\n",
        "  print(\"STRING IS PALINDROME\")\n",
        "else:\n",
        "  print(\"STRING IS NOT A PALINDROME\")\n"
      ]
    },
    {
      "cell_type": "code",
      "source": [
        "#2 List Flattening (5 Marks)\n",
        "#Given a nested list of integers, create a function to flatten the list to a single-level list.\n",
        "#For example, [[1, 2, 3], [4, 5]] will be flattened to [1, 2, 3, 4, 5].\n",
        "\n",
        "def nestedList(mylist):\n",
        "  myList2=[]\n",
        "  i=0\n",
        "  for i in range (len(mylist)):\n",
        "    j=0\n",
        "    for j in range (len(mylist[i])):\n",
        "      myList2.append(mylist[i][j])\n",
        "  return myList2\n",
        "\n",
        "myList=[[1,2,3],[4,5]]\n",
        "nestedList(myList)\n",
        "\n"
      ],
      "metadata": {
        "colab": {
          "base_uri": "https://localhost:8080/"
        },
        "id": "u-OHFe7fgaGw",
        "outputId": "661e1bb0-da4c-484d-8185-6b6cb67fa55b"
      },
      "execution_count": null,
      "outputs": [
        {
          "output_type": "execute_result",
          "data": {
            "text/plain": [
              "[1, 2, 3, 4, 5]"
            ]
          },
          "metadata": {},
          "execution_count": 17
        }
      ]
    },
    {
      "cell_type": "code",
      "source": [
        "#3 List Intersection (5 Marks)\n",
        "#Given two lists of integers, create a function to return a list that contains only the elements\n",
        "#that are common between the two lists (without duplicates). Make sure your program works with lists of different sizes.\n",
        "\n",
        "\n",
        "def commonList(mylist,myList2):\n",
        "  myList3=[]\n",
        "  i=0\n",
        "\n",
        "  for i in range (len(mylist)): #Appending elements of mylist1 that are also in mylist\n",
        "    if mylist[i] in myList2:\n",
        "      myList3.append(mylist[i])\n",
        "\n",
        "  for i in range (len(myList2)): #Appending elements of mylist2 that are also in mylist1 (Comparing again becuase lists can be of differnt sizes i.e one shorter)\n",
        "    if myList2[i] in mylist:\n",
        "      myList3.append(myList2[i])\n",
        "\n",
        "  myList3=list(dict.fromkeys(myList3)) # This is basically removing duplicates\n",
        "  return myList3\n",
        "\n",
        "myList=[1,2,3,5]\n",
        "myList2=[2,2,4,5,8,1]\n",
        "commonList(myList,myList2)"
      ],
      "metadata": {
        "colab": {
          "base_uri": "https://localhost:8080/"
        },
        "id": "pCXDhkbrdq3F",
        "outputId": "b6601dcc-5434-412f-d2ad-dacb33f1bca9"
      },
      "execution_count": null,
      "outputs": [
        {
          "output_type": "execute_result",
          "data": {
            "text/plain": [
              "[1, 2, 5]"
            ]
          },
          "metadata": {},
          "execution_count": 22
        }
      ]
    },
    {
      "cell_type": "code",
      "source": [
        "#4 String Anagrams (5 Marks)\n",
        "#Given two strings, create a function to detect if they are anagrams. An anagram is a word,\n",
        "#phrase, or name formed by rearranging the letters of another, such as cinema, formed from iceman.\n",
        "\n",
        "def isItAnagram(str,str2):\n",
        "  #convert both to lowercase so for e.g Cinema and iceman can be accepted , Can also ignore spaces\n",
        "  str=str.lower()\n",
        "  str2=str2.lower()\n",
        "\n",
        "  #sort both \n",
        "  str=sorted(str)\n",
        "  str2=sorted(str2)\n",
        "  if(str==str2):\n",
        "    return 'YES IT IS ANAGRAM'\n",
        "  else:\n",
        "    return 'NO IT IS NOT ANAGRAM'\n",
        "\n",
        "str=input('PLEASE ENTER STRING 1: ')\n",
        "str2=input('PLEASE ENTER STRING 2: ')\n",
        "\n",
        "isItAnagram(str,str2)\n"
      ],
      "metadata": {
        "colab": {
          "base_uri": "https://localhost:8080/",
          "height": 70
        },
        "id": "Z3Js8PODj_pc",
        "outputId": "0345d114-6528-4ede-8a82-e5c0c4697383"
      },
      "execution_count": null,
      "outputs": [
        {
          "name": "stdout",
          "output_type": "stream",
          "text": [
            "PLEASE ENTER STRING 1: icemAn\n",
            "PLEASE ENTER STRING 2: cinema\n"
          ]
        },
        {
          "output_type": "execute_result",
          "data": {
            "text/plain": [
              "'YES IT IS ANAGRAM'"
            ],
            "application/vnd.google.colaboratory.intrinsic+json": {
              "type": "string"
            }
          },
          "metadata": {},
          "execution_count": 3
        }
      ]
    },
    {
      "cell_type": "code",
      "source": [
        "#5 Binary Search (5 Marks)\n",
        "#Given a sorted list of integers, create a function to perform binary search on the list and\n",
        "#return the index of the target element. If the target element is not found, return -1.\n",
        "\n",
        "def BinarySearch(myList,target):\n",
        "  a=0\n",
        "  b=len(myList)-1\n",
        "  myResult=-1\n",
        "  while(a<=b):\n",
        "      med=a+(b-a)//2\n",
        "      if(myList[med]==target):\n",
        "        return med\n",
        "      elif myList[med]<target:\n",
        "        a=med+1\n",
        "      else:\n",
        "        b=med-1\n",
        "  return -1\n",
        "\n",
        "\n",
        "myList=[2,4,7,8,11,15,18,23,26]\n",
        "BinarySearch(myList,18)"
      ],
      "metadata": {
        "colab": {
          "base_uri": "https://localhost:8080/"
        },
        "id": "KOMhKuFyk9oY",
        "outputId": "a32909bf-7d2e-4f32-be9b-3e1b006162c7"
      },
      "execution_count": null,
      "outputs": [
        {
          "output_type": "execute_result",
          "data": {
            "text/plain": [
              "6"
            ]
          },
          "metadata": {},
          "execution_count": 5
        }
      ]
    },
    {
      "cell_type": "code",
      "source": [
        "#6 Merge Sort (5 Marks)\n",
        "#Given a list of integers, create a function to sort the list using the merge sort algorithm.\n",
        "#The merge sort algorithm is a recursive sorting algorithm that works by breaking down\n",
        "#the list into smaller sub-lists and then recombining them in a sorted manner.\n",
        "\n",
        "def mergeSort(myArr):\n",
        "\n",
        "  #Code for recursion\n",
        "        if len(myArr) > 1:\n",
        "            mid = len(myArr)//2 \n",
        "            # Here dividing array into left and right\n",
        "            left = myArr[:mid]\n",
        "            right = myArr[mid:]\n",
        "\n",
        "           #Recursion Calls\n",
        "            mergeSort(left)\n",
        "            mergeSort(right)\n",
        "         \n",
        "            i = 0\n",
        "            j = 0\n",
        "            k = 0\n",
        "            \n",
        "            #Actual Sorting happening here\n",
        "            while i < len(left) and j < len(right):\n",
        "                if left[i] < right[j]:\n",
        "                    myArr[k] = left[i]\n",
        "                    i =i+ 1\n",
        "                else:\n",
        "                    myArr[k] = right[j]\n",
        "                    j=j+ 1\n",
        "                k=k+ 1\n",
        "             \n",
        "          # Here Left and right array combined  , this is incase some elements are left i.e never compared when for e.g Right side is shorter is len\n",
        "            while i < len(left):\n",
        "                myArr[k] = left[i]\n",
        "                i =i+ 1\n",
        "                k = k+1\n",
        " \n",
        "            while j < len(right): # if left side was shorter\n",
        "                myArr[k] = right[j]\n",
        "                j = j+1\n",
        "                k=k+ 1\n",
        "              \n",
        "            return myArr\n",
        "\n",
        "myList=[2,14,27,8,11,15,18,23]\n",
        "print('Sorted Array: ',mergeSort(myList))"
      ],
      "metadata": {
        "colab": {
          "base_uri": "https://localhost:8080/"
        },
        "id": "nzLKthJXm4P3",
        "outputId": "fc799c22-67b4-4d0f-f147-fa79fb6677a7"
      },
      "execution_count": null,
      "outputs": [
        {
          "output_type": "stream",
          "name": "stdout",
          "text": [
            "Sorted Array:  [2, 8, 11, 14, 15, 18, 23, 27]\n"
          ]
        }
      ]
    },
    {
      "cell_type": "code",
      "source": [
        "#7 Quick Sort (5 Marks)\n",
        "#Given a list of integers, create a function to sort the list using the quick sort algorithm.\n",
        "#The quick sort algorithm is a recursive sorting algorithm that selects a pivot element from\n",
        "#the list and then partitions the other elements into two sub-lists, according to whether they are less than or greater than the pivot.\n",
        "\n",
        "def part(myArr,a,b):\n",
        "  pivot=myArr[b]\n",
        "  i=a-1\n",
        "\n",
        "  for j in range (a,b):\n",
        "    if(myArr[j]<=pivot):\n",
        "      i=i+1\n",
        "      (myArr[i],myArr[j])=(myArr[j],myArr[i])\n",
        "  (myArr[i+1],myArr[b])=(myArr[b],myArr[i+1]) # This is when for loop ends we put pivot in its final position\n",
        "  return i+1\n",
        "\n",
        "def QuickSort(myArr,a,b):\n",
        "  if (a<b):\n",
        "    element=part(myArr,a,b) # Next pivot returned\n",
        "    QuickSort(myArr,a,element-1)\n",
        "    QuickSort(myArr,element+1,b)\n",
        "  return myArr\n",
        "\n",
        "\n",
        "\n",
        "\n",
        "\n",
        "\n",
        "myList=[2,14,27,8,11,15,18,23]\n",
        "print('Sorted Array: ',QuickSort(myList,0,len(myList)-1)) # Let intial pivot be the last element in array\n"
      ],
      "metadata": {
        "colab": {
          "base_uri": "https://localhost:8080/"
        },
        "id": "R3Aivwf0qSh8",
        "outputId": "4228b9fb-bc6e-442b-b69f-0116ec021781"
      },
      "execution_count": null,
      "outputs": [
        {
          "output_type": "stream",
          "name": "stdout",
          "text": [
            "Sorted Array:  [2, 8, 11, 14, 15, 18, 23, 27]\n"
          ]
        }
      ]
    },
    {
      "cell_type": "code",
      "source": [
        "#8 Frequency Counter (5 Marks)\n",
        "#Given a list of integers, create a function to return a dictionary that contains the\n",
        "#frequency count of each element in the list. For example, the list [1, 2, 2, 3, 4, 2] would\n",
        "#return {1:1, 2:3, 3:1, 4:1}.\n",
        "\n",
        "def findFrequency(myList):\n",
        "  myDict={}\n",
        "  for i in range (len(myList)): # First we initialize all values in list count to zero\n",
        "     myDict[myList[i]]=0\n",
        "  for i in range (len(myList)):\n",
        "   myDict[myList[i]]=int(myDict[myList[i]])+1 # Then we increment \n",
        "  return myDict\n",
        "\n",
        "\n",
        "\n",
        "myList=[1, 2, 2, 3, 4, 2]\n",
        "findFrequency(myList)"
      ],
      "metadata": {
        "colab": {
          "base_uri": "https://localhost:8080/"
        },
        "id": "ah6YeiMdz4Qa",
        "outputId": "5d08c2fb-1f97-47f2-b5f2-cb26bbd0283b"
      },
      "execution_count": null,
      "outputs": [
        {
          "output_type": "execute_result",
          "data": {
            "text/plain": [
              "{1: 1, 2: 3, 3: 1, 4: 1}"
            ]
          },
          "metadata": {},
          "execution_count": 1
        }
      ]
    },
    {
      "cell_type": "code",
      "source": [
        "#9 Count Distinct Elements (5 Marks)\n",
        "#Given a list of integers, create a function to return the count of distinct elements in the\n",
        "#list. For example, the list [1, 2, 2, 3, 4, 2] would return 4.\n",
        "\n",
        "\n",
        "def findFrequency(myList):\n",
        "  myDict={}\n",
        "  for i in range (len(myList)): # creating dictionary from values in list making list values key in dictionary (Key has to be unique)\n",
        "     myDict[myList[i]]=0\n",
        "  for i in range (len(myList)):\n",
        "   myDict[myList[i]]=int(myDict[myList[i]])+1 # Making values their count in list\n",
        "  return myDict\n",
        "\n",
        "def findDistinct(myDictionary):\n",
        "  count=len(myDictionary) #Returns number of keys in dictionary i.e distinct elements in the list\n",
        "  return count\n",
        "\n",
        "\n",
        "myList=[1, 2, 2, 3, 4, 2]\n",
        "findDistinct(findFrequency(myList))"
      ],
      "metadata": {
        "colab": {
          "base_uri": "https://localhost:8080/"
        },
        "id": "Tz1BTO6p1pW9",
        "outputId": "1a39118c-1b40-471c-87f7-5f8e8aba381b"
      },
      "execution_count": null,
      "outputs": [
        {
          "output_type": "execute_result",
          "data": {
            "text/plain": [
              "4"
            ]
          },
          "metadata": {},
          "execution_count": 49
        }
      ]
    },
    {
      "cell_type": "code",
      "source": [
        "#10 Union and Intersection of Sets (5 Marks) [LATER CORRECTED]\n",
        "#Given two sets of integers, create a function to return the union and intersection of the\n",
        "#sets as a tuple of two sets. The union is the set of elements that appear in either set, while\n",
        "#the intersection is the set of elements that appear in both sets.\n",
        "\n",
        "def getTuple(list):\n",
        "  return tuple(list)\n",
        "\n",
        "def unionAndIntersection(set1,set2):\n",
        "  tuple3=[[],[]]\n",
        "\n",
        "  # For Intersection-\n",
        "  for i in range(len(set1)):\n",
        "    if(set1[i] in set2):\n",
        "     tuple3[0].append(set1[i])\n",
        "  for i in range(len(set2)):\n",
        "    if(set2[i] in set1):\n",
        "     tuple3[0].append(set2[i])\n",
        "\n",
        "  tuple3[0]=list(dict.fromkeys(tuple3[0])) #Removing duplicates of Intersection\n",
        "\n",
        "   # For Union-\n",
        "  for i in range(len(set1)):\n",
        "     tuple3[1].append(set1[i])\n",
        "  for i in range(len(set2)):\n",
        "     tuple3[1].append(set2[i])\n",
        "\n",
        "  tuple3[1]=list(dict.fromkeys(tuple3[1])) #Removing duplicates of Union\n",
        "\n",
        "  return getTuple(tuple3)\n",
        "\n",
        "\n",
        "set1=[1,2,3]\n",
        "set2=[3,4]\n",
        "unionAndIntersection(set1,set2)"
      ],
      "metadata": {
        "colab": {
          "base_uri": "https://localhost:8080/"
        },
        "id": "-aJ-GRMU4zVl",
        "outputId": "263ecbd8-ba23-4e6a-d545-31be713995ad"
      },
      "execution_count": null,
      "outputs": [
        {
          "output_type": "execute_result",
          "data": {
            "text/plain": [
              "([3], [1, 2, 3, 4])"
            ]
          },
          "metadata": {},
          "execution_count": 23
        }
      ]
    },
    {
      "cell_type": "code",
      "source": [
        "#11 Unique values in a dictionary (5 Marks) [Later Corrected]\n",
        "#Given a dictionary, return a list of all the values in the dictionary, but without any\n",
        "#duplicates.\n",
        "\n",
        "\n",
        "def dictionaryDistinct(dict):\n",
        "  myList=[]\n",
        "  dict2={}\n",
        "  \n",
        "  for key,value in dict.items(): \n",
        "    dict2[value]=0\n",
        "\n",
        "  for key,value in dict2.items(): \n",
        "    myList.append(key)\n",
        "\n",
        "  return myList\n",
        "\n",
        "         \n",
        "\n",
        "dict={\n",
        "'A':2,\n",
        "'B':2,\n",
        "'C':3,\n",
        "'D':4,\n",
        "'E':5\n",
        "}\n",
        "dictionaryDistinct(dict)\n",
        "\n"
      ],
      "metadata": {
        "colab": {
          "base_uri": "https://localhost:8080/"
        },
        "id": "4Ng_hNX47a7Q",
        "outputId": "2bf4c2ba-33bf-49f3-9bc7-84231d6614c6"
      },
      "execution_count": null,
      "outputs": [
        {
          "output_type": "execute_result",
          "data": {
            "text/plain": [
              "[2, 3, 4, 5]"
            ]
          },
          "metadata": {},
          "execution_count": 3
        }
      ]
    },
    {
      "cell_type": "code",
      "source": [
        "#12 Most common values in a dictionary (5 Marks) [Later Corrected]\n",
        "#Given a dictionary, return the key(s) of the value(s) that appear most often. If there is a tie, return all keys.\n",
        "\n",
        "def getCount(dict,d):\n",
        "  count =0\n",
        "  for key,value in dict.items(): \n",
        "    if (d ==value):\n",
        "      count=count+1\n",
        "  return int(count)\n",
        "\n",
        "def dictionaryDistinct(dict):\n",
        "  myList=[]\n",
        "  count=[]\n",
        "  \n",
        "  for key,value in dict.items(): \n",
        "   count.append(getCount(dict,value))\n",
        "\n",
        "  maxValue=max(count)\n",
        "\n",
        "  FrequentOccurs=[]\n",
        "  for i in range (len(count)):\n",
        "    if(count[i]==maxValue):\n",
        "      j=0\n",
        "      for key,value in dict.items():\n",
        "       if(j==i):\n",
        "        FrequentOccurs.append(key)\n",
        "       j=j+1\n",
        "\n",
        "\n",
        "  return FrequentOccurs\n",
        "\n",
        "dict={\n",
        "'A':2,\n",
        "'B':2,\n",
        "'C':3,\n",
        "'D':4,\n",
        "'E':2\n",
        "}\n",
        "dictionaryDistinct(dict)\n",
        "\n"
      ],
      "metadata": {
        "id": "nPkJQ-5x9LRw",
        "colab": {
          "base_uri": "https://localhost:8080/"
        },
        "outputId": "f184a412-2542-4867-ddf1-b2e0a4d6b31b"
      },
      "execution_count": null,
      "outputs": [
        {
          "output_type": "execute_result",
          "data": {
            "text/plain": [
              "['A', 'B', 'E']"
            ]
          },
          "metadata": {},
          "execution_count": 7
        }
      ]
    },
    {
      "cell_type": "code",
      "source": [
        "#13 Combine dictionaries (5 Marks)\n",
        "#Given two dictionaries d1 and d2, return a new dictionary which contains all the keys and\n",
        "#values from d1 and d2. If a key is in both dictionaries, the value from d1 takes\n",
        "#precedence.\n",
        "\n",
        "d1={\n",
        "'A':2,\n",
        "'C':2,\n",
        "}\n",
        "d2={'C':3,\n",
        "'D':4,\n",
        "'E':2\n",
        "}\n",
        "d2.update(d1)\n",
        "print(d2)"
      ],
      "metadata": {
        "id": "8jKtdaXt9Ldv",
        "colab": {
          "base_uri": "https://localhost:8080/"
        },
        "outputId": "a67c67db-e617-4d58-bab6-9141a078e585"
      },
      "execution_count": null,
      "outputs": [
        {
          "output_type": "stream",
          "name": "stdout",
          "text": [
            "{'C': 2, 'D': 4, 'E': 2, 'A': 2}\n"
          ]
        }
      ]
    },
    {
      "cell_type": "code",
      "source": [
        "\n",
        "#14 Filter list of dictionaries (5 Marks)\n",
        "#Given a list of dictionaries and a key, return a new list that contains only the dictionaries\n",
        "#that have the given key.\n",
        "\n",
        "def getDictionary(dictList,keyy):\n",
        "  newList=[]\n",
        "  for i in range(len(dictList)):\n",
        "    j=-1 # Works like a flag\n",
        "    for key,value in dictList[i].items():\n",
        "       if(key==keyy):\n",
        "           j=1\n",
        "    if(j==1):\n",
        "     newList.append(dictList[i]) #If key present append whole dictionary\n",
        "  return newList\n",
        "\n",
        "myList=[{'A':1,'C':3},{'B':2}]\n",
        "getDictionary(myList,'B')"
      ],
      "metadata": {
        "id": "M6RupRMI9LqI",
        "colab": {
          "base_uri": "https://localhost:8080/"
        },
        "outputId": "fb63936e-6b46-4087-f17d-785d2d8ae92b"
      },
      "execution_count": null,
      "outputs": [
        {
          "output_type": "execute_result",
          "data": {
            "text/plain": [
              "[{'B': 2}]"
            ]
          },
          "metadata": {},
          "execution_count": 27
        }
      ]
    },
    {
      "cell_type": "code",
      "source": [
        "#15 Find duplicates in a list (5 Marks)\n",
        "#Given a list, return the elements that are duplicated in the list. The returned list should\n",
        "#only contain the duplicated elements, without any duplicates.\n",
        "\n",
        "def getCount(myList,d):\n",
        "  count =0;\n",
        "  for i in range (len(myList)):\n",
        "    if(d==myList[i]):\n",
        "      count=count+1\n",
        "  return count\n",
        "\n",
        "def getDuplicates(myList):\n",
        "  newList=[]\n",
        "  for i in range (len(myList)):\n",
        "    if(getCount(myList,myList[i])>1):\n",
        "      newList.append(myList[i])\n",
        "\n",
        "  newList=dict.fromkeys(newList) #Removing duplicates\n",
        "  return list(newList)\n",
        "\n",
        "myList=[1,2,3,4,4,5,1]\n",
        "getDuplicates(myList)\n",
        "\n",
        "\n",
        "\n"
      ],
      "metadata": {
        "id": "toTXoPIx9LzX",
        "colab": {
          "base_uri": "https://localhost:8080/"
        },
        "outputId": "e25752d2-ee9a-47ba-dcb0-0ef352905276"
      },
      "execution_count": null,
      "outputs": [
        {
          "output_type": "execute_result",
          "data": {
            "text/plain": [
              "[1, 4]"
            ]
          },
          "metadata": {},
          "execution_count": 29
        }
      ]
    },
    {
      "cell_type": "code",
      "source": [],
      "metadata": {
        "id": "elRa53MJVzXi"
      },
      "execution_count": null,
      "outputs": []
    }
  ]
}