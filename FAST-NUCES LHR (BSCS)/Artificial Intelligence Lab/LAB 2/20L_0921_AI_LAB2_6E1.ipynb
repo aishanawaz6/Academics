{
  "nbformat": 4,
  "nbformat_minor": 0,
  "metadata": {
    "colab": {
      "provenance": []
    },
    "kernelspec": {
      "name": "python3",
      "display_name": "Python 3"
    },
    "language_info": {
      "name": "python"
    }
  },
  "cells": [
    {
      "cell_type": "code",
      "execution_count": null,
      "metadata": {
        "colab": {
          "base_uri": "https://localhost:8080/"
        },
        "id": "4vaCgZvJa3Jr",
        "outputId": "e32f483b-4fad-42e4-a8e0-f850110e8964"
      },
      "outputs": [
        {
          "output_type": "stream",
          "name": "stdout",
          "text": [
            "[1, 4, 5, 6]\n",
            "['Aisha', 'Nawaz', 'Ahsia', 'Zawan']\n",
            "[[1, 2, 3], [3, 2, 1]]\n",
            "['Aisha', 'BS', 2020, 0.8]\n",
            "Aisha\n",
            "Nawaz\n",
            "['Aisha']\n",
            "['Nawaz', 'Ahsia']\n",
            "['Ahsia', 'Zawan']\n",
            "['Aisha', 'Nawz', 'ThirdStudnet', 'FourthStudent']\n",
            "Number of Students is as follows:  4\n",
            "['FirstStudent', 'SecondStudent', 'ThirdStudnet', 'FourthStudent']\n",
            "Sorted Form is:  ['FirstStudent', 'FourthStudent', 'SecondStudent', 'ThirdStudnet']\n",
            "intList is:  [1, 4, 5, 6]\n",
            "Sum of intList =  16\n",
            "Max from intList =  6\n",
            "New Student has been added that is :  Fifth Student\n",
            "New students list is:  ['FirstStudent', 'SecondStudent', 'ThirdStudnet', 'FourthStudent', 'Fifth Student']\n",
            "New Student has been removed that was :  Fifth Student\n",
            "New students list is:  ['FirstStudent', 'SecondStudent', 'ThirdStudnet', 'FourthStudent']\n",
            "Student GPAs=  [2.0, 3.0, 3.2, 2.3]\n",
            "Student GPAs=  [2.0, 3.2, 2.3]\n",
            "Student GPAs=  [3.2, 2.3]\n",
            "[0, 1, 4, 9, 16, 25, 36, 49, 64, 81]\n",
            "[3.2]\n"
          ]
        }
      ],
      "source": [
        "#Aisha Muhammad Nawaz 20L-0921 BSCS SECTION 6E1 AI LAB 2 \n",
        "\n",
        "#Expolaration of LISTS\n",
        "\n",
        "intList=[1,4,5,6]\n",
        "print(intList)\n",
        "\n",
        "students=['Aisha','Nawaz','Ahsia','Zawan']\n",
        "print(students)\n",
        "\n",
        "listOfLists=[[1,2,3],[3,2,1]]\n",
        "print(listOfLists)\n",
        "\n",
        "StudentData=['Aisha','BS',2020,0.8]\n",
        "print(StudentData)\n",
        "\n",
        "print(students[0])\n",
        "print(students[1])\n",
        "\n",
        "print(students[0:1])\n",
        "print(students[1:-1])\n",
        "print(students[-2:]) # Last 2 Students\n",
        "\n",
        "\n",
        "\n",
        "students[1]='Nawz'\n",
        "students[-1:-3:-1]=['FourthStudent','ThirdStudnet']\n",
        "print(students)\n",
        "\n",
        "print('Number of Students is as follows: ',len(students))\n",
        "students[:2]=['FirstStudent','SecondStudent']\n",
        "print(students)\n",
        "print('Sorted Form is: ',sorted(students))\n",
        "\n",
        "print('intList is: ',intList)\n",
        "print('Sum of intList = ',sum(intList))\n",
        "print('Max from intList = ',max(intList))\n",
        "\n",
        "students.append('Fifth Student')\n",
        "print('New Student has been added that is : ',students[-1])\n",
        "print('New students list is: ',students)\n",
        "print('New Student has been removed that was : ',students.pop())\n",
        "print('New students list is: ',students)\n",
        "\n",
        "gpas=[2.0,3.0,3.2,2.3]\n",
        "print('Student GPAs= ',gpas)\n",
        "del gpas[1]\n",
        "print('Student GPAs= ',gpas)\n",
        "del gpas[0:1]\n",
        "print('Student GPAs= ',gpas)\n",
        "\n",
        "gpas.index(2.3)\n",
        "2.3 in gpas\n",
        "2.8 in gpas\n",
        "\n",
        "#help(list)\n",
        "\n",
        "# With list comprehension\n",
        "squares = [n**2 for n in range(10)]\n",
        "print(squares)\n",
        "goodgpas=[gp for gp in gpas if gp>3]\n",
        "print(goodgpas)\n",
        "\n"
      ]
    },
    {
      "cell_type": "code",
      "source": [
        "#Expolaration of TUPLE\n",
        "#List VS TUPLE\n",
        "List=[1,2]\n",
        "tuplee=(1,2)\n",
        "\n",
        "List[0]=3\n",
        "print(List)\n",
        "#tuplee[0]=3  this wont work\n",
        "print(tuplee)\n",
        "x=tuplee.count(1)\n",
        "print(x)\n",
        "x=tuplee.index(1)\n",
        "print(x)\n",
        "\n",
        "\n"
      ],
      "metadata": {
        "colab": {
          "base_uri": "https://localhost:8080/"
        },
        "id": "yoEE9qt8ebce",
        "outputId": "366feb59-4f9e-4d81-ee46-23a220144850"
      },
      "execution_count": null,
      "outputs": [
        {
          "output_type": "stream",
          "name": "stdout",
          "text": [
            "[3, 2]\n",
            "(1, 2)\n",
            "1\n",
            "0\n"
          ]
        }
      ]
    },
    {
      "cell_type": "code",
      "source": [
        "#Expolaration of Dictionaries\n",
        "\n",
        "MLB_team = {\n",
        "'Colorado' : 'Rockies',\n",
        "'Boston' : 'Red Sox',\n",
        "'Minnesota': 'Twins',\n",
        "'Milwaukee': 'Brewers',\n",
        "'Seattle' : 'Mariners'\n",
        "}\n",
        "\n",
        "MLB_team = dict([\n",
        "('Colorado', 'Rockies'),\n",
        "('Boston', 'Red Sox'),\n",
        "('Minnesota', 'Twins'),\n",
        "('Milwaukee', 'Brewers'),\n",
        "('Seattle', 'Mariners')\n",
        "])\n",
        "\n",
        "tel = dict(sape=4139, guido=4127, jack=4098)\n",
        "\n",
        "# dict comprehensions can be used to create dictionaries fromarbitrary key and value expression\n",
        "{x: x**2 for x in (2, 4, 6)} # {2: 4, 4: 16, 6: 36}\n",
        "# Building a dictionary incrementally – if you don’t know all the key-value pairs in advance\n",
        "person = {}\n",
        "person['fname'] = 'Joe'\n",
        "person['lname'] = 'Fonebone'\n",
        "person['age'] = 51\n",
        "person['spouse'] = 'Edna'\n",
        "person['children'] = ['Ralph', 'Betty', 'Joey']\n",
        "person['pets'] = {'dog': 'Fido', 'cat': 'Sox'}\n",
        "print(person)\n",
        "\n",
        "\n",
        "# Retrieve a value\n",
        "r=MLB_team['Minnesota'] \n",
        "print(r)\n",
        "# Add a new entry\n",
        "MLB_team['Kansas City'] = 'Royals'\n",
        "# Update an entry\n",
        "MLB_team['Seattle'] = 'Seahawks'\n",
        "\n",
        "\n",
        "hash = {}\n",
        "hash['word'] = 'garfield'\n",
        "hash['count'] = 42\n",
        "s = 'I want %(count)d copies of %(word)s' % hash # %d for int, %s for string\n",
        "print(s)\n",
        "\n",
        "d = {'a': 10, 'b': 20, 'c': 30}\n",
        "     \n",
        "# Clears a dictionary.\n",
        "#d.clear() # {}\n",
        "# Returns the value for a key if it exists in the dictionary.\n",
        "print(d.get('b')) # 20\n",
        "\n",
        "# Removes a key from a dictionary, if it is present, and returns itsvalue. \n",
        "d.pop('b') # 20\n",
        "\n",
        "# Returns a list of key-value pairs in a dictionary.\n",
        "list(d.items()) # [('a', 10), ('b', 20), ('c', 30)]\n",
        "list(d.items())[1][0] # 'b'\n",
        "list(d.items())[1][1] # 20\n",
        "\n",
        "# Returns a list of keys in a dictionary.\n",
        "list(d.keys()) # ['a', 'b', 'c']\n",
        "\n",
        "# Returns a list of values in a dictionary.\n",
        "list(d.values()) # [10, 20, 30]\n",
        "\n",
        "# Removes the last key-value pair from a dictionary.\n",
        "d.popitem() # ('c', 30)\n",
        "\n",
        "# Merges a dictionary with another dictionary or with an iterable of key-value pairs.\n",
        "d2 = {'b': 200, 'd': 400}\n",
        "d.update(d2) # {'a': 10, 'b': 200, 'c': 30, 'd': 400}\n",
        "print(d)\n",
        "\n"
      ],
      "metadata": {
        "colab": {
          "base_uri": "https://localhost:8080/"
        },
        "id": "EepXMZvxn9sl",
        "outputId": "06b7891c-3579-43f8-f713-39f16ff05708"
      },
      "execution_count": null,
      "outputs": [
        {
          "output_type": "stream",
          "name": "stdout",
          "text": [
            "{'fname': 'Joe', 'lname': 'Fonebone', 'age': 51, 'spouse': 'Edna', 'children': ['Ralph', 'Betty', 'Joey'], 'pets': {'dog': 'Fido', 'cat': 'Sox'}}\n",
            "Twins\n",
            "I want 42 copies of garfield\n",
            "20\n",
            "{'a': 10, 'b': 200, 'd': 400}\n"
          ]
        }
      ]
    },
    {
      "cell_type": "code",
      "source": [
        "# LAB EXCERCISES\n",
        "\n",
        "#6.1 Number of chickens (5 Marks)\n",
        "\n",
        "chickenVocab=['Number of chickens: ','Number of chickens: many']\n",
        "def chickens(count):\n",
        "  if int(count)<10:\n",
        "    return chickenVocab[0]+count\n",
        "  else:\n",
        "    return chickenVocab[1]\n",
        "\n",
        "n=0\n",
        "n=input('ENTER an integer for count of number of chickens: ')\n",
        "chickens(n)\n",
        "\n"
      ],
      "metadata": {
        "colab": {
          "base_uri": "https://localhost:8080/",
          "height": 53
        },
        "id": "dkxS94l5rYVh",
        "outputId": "523da428-ff4d-46ad-c50c-b8e8d1067e0a"
      },
      "execution_count": null,
      "outputs": [
        {
          "name": "stdout",
          "output_type": "stream",
          "text": [
            "ENTER an integer for count of number of chickens: 4\n"
          ]
        },
        {
          "output_type": "execute_result",
          "data": {
            "text/plain": [
              "'Number of chickens: 4'"
            ],
            "application/vnd.google.colaboratory.intrinsic+json": {
              "type": "string"
            }
          },
          "metadata": {},
          "execution_count": 86
        }
      ]
    },
    {
      "cell_type": "code",
      "source": [
        "#6.2 Strings from both ends (5 Marks)\n",
        "\n",
        "def modifyStr(mystr):\n",
        "  mystr=list(mystr) #Converting to list form to ease modification\n",
        "  mystr=''.join(map(str,mystr[:3]+mystr[len(mystr)-3:])) #Converting to string form\n",
        "  print('Output: ',mystr)\n",
        "\n",
        "\n",
        "strIn=input('Enter String: ')\n",
        "modifyStr(strIn)\n",
        "\n"
      ],
      "metadata": {
        "colab": {
          "base_uri": "https://localhost:8080/"
        },
        "id": "9zRAsi5huF9E",
        "outputId": "cc6c76f6-8eee-45ff-87ed-5f42a0db88c2"
      },
      "execution_count": 26,
      "outputs": [
        {
          "output_type": "stream",
          "name": "stdout",
          "text": [
            "Enter String: Intelligence\n",
            "Output:  Intnce\n"
          ]
        }
      ]
    },
    {
      "cell_type": "code",
      "source": [
        "#6.3 Replace occurrences of first character (5 Marks)\n",
        "\n",
        "def replaceStr (mystr,chara):\n",
        "  chara=chara.lower()\n",
        "  if(chara in mystr):\n",
        "    org=mystr\n",
        "    str2=mystr.lower()\n",
        "    index= str2.index(chara)\n",
        "    str3=str2[index+1:]\n",
        "    str3=str(str3)\n",
        "    str3=str3.replace(chara,'@')\n",
        "    str2=org[:index+1]\n",
        "    str2=str2+str3\n",
        "    print('Output is: ',str2)\n",
        "  else:\n",
        "    print('ERROR! CAN\\'T FIND CHARACTER IN STRING')\n",
        "\n",
        "strIn=input('Enter String: ')\n",
        "charact=input('Enter Character to replace with @: ')\n",
        "replaceStr(strIn,charact)\n",
        "\n",
        "\n"
      ],
      "metadata": {
        "colab": {
          "base_uri": "https://localhost:8080/"
        },
        "id": "o68mjAR8xEqn",
        "outputId": "ad2927e8-6891-465d-ac0f-a956c870510b"
      },
      "execution_count": null,
      "outputs": [
        {
          "output_type": "stream",
          "name": "stdout",
          "text": [
            "Enter String: Ooogle\n",
            "Enter Character to replace with @: o\n",
            "Output is:  O@@gle\n"
          ]
        }
      ]
    },
    {
      "cell_type": "code",
      "source": [
        "#6.4 String jumble (5 Marks)\n",
        "\n",
        "def combineStr(a,b):\n",
        "\n",
        "  mystr=list(a) # converting string a to list form to ease creation of new string\n",
        "  mystr2=list(b) # converting string b to list form to ease creation of new string\n",
        "  \n",
        "  #To swap first two indexes\n",
        "  temp=mystr[0:2] \n",
        "  mystr[0:2]=mystr2[0:2]\n",
        "  mystr2[0:2]=temp\n",
        "\n",
        " \n",
        "  mystr=''.join(map(str,mystr)) #Converting back to string\n",
        "  mystr2=''.join(map(str,mystr2)) #Converting back to string\n",
        "\n",
        "  newstr=mystr+' '+mystr2 # Finally creating new string with space inbetween a and b and their first two indexes swapped\n",
        "  return newstr\n",
        "\n",
        "\n",
        "str1=input('Enter String1 = ')\n",
        "str2=input('Enter String2 = ')\n",
        "print('CREATING NEW STRING..')\n",
        "if(len(str1)>=2 and len(str2)>=2):\n",
        "  print('Output -> ',combineStr(str1,str2))\n",
        "else:\n",
        "  print('ERROR! Strings not of length 2 or more!')\n",
        "  "
      ],
      "metadata": {
        "id": "u7T4H_TZ2Et8",
        "colab": {
          "base_uri": "https://localhost:8080/"
        },
        "outputId": "c0eeb7c0-0b9a-435a-bcb9-1539925db4e4"
      },
      "execution_count": 24,
      "outputs": [
        {
          "output_type": "stream",
          "name": "stdout",
          "text": [
            "Enter String1 = dog\n",
            "Enter String2 = dinner\n",
            "CREATING NEW STRING..\n",
            "Output ->  dig donner\n"
          ]
        }
      ]
    },
    {
      "cell_type": "code",
      "source": [
        "#6.5 Matching first and last characters (5 Marks)\n",
        "\n",
        "def getCount(myList,Size):\n",
        "  count=0\n",
        "  for i in range(int(Size)):\n",
        "    if(myList[i][0].lower() == myList[i][-1].lower()):\n",
        "      count=count+1\n",
        "\n",
        "  return count\n",
        "  \n",
        "\n",
        "\n",
        "\n",
        "\n",
        "#Taking Inputs from user:\n",
        "#Taking input of size of list\n",
        "listSize=input('Enter number of strings in list: ')\n",
        "\n",
        "\n",
        "#Taking input of strings one by one in list\n",
        "listInp=[]\n",
        "i=0\n",
        "while True:\n",
        "  if(i<int(listSize)):\n",
        "    print('Enter String ',i+1,' : ')\n",
        "    strIn=input()\n",
        "    if(len(strIn)>=2):\n",
        "      listInp.append(strIn)\n",
        "    else:\n",
        "      i=i-1\n",
        "      print('Error! can\\'t take in a string of length less than 2!!')\n",
        "  else:\n",
        "    break\n",
        "  i=i+1\n",
        "print('Count of the number of strings whose first and last chars of the string are the same = ',getCount(listInp,listSize))"
      ],
      "metadata": {
        "colab": {
          "base_uri": "https://localhost:8080/"
        },
        "id": "2L_6Nr8auqkV",
        "outputId": "df16c0fb-ebdb-48dc-a9cb-c1d3ef6e3ad0"
      },
      "execution_count": 48,
      "outputs": [
        {
          "output_type": "stream",
          "name": "stdout",
          "text": [
            "Enter number of strings in list: 4\n",
            "Enter String  1  : \n",
            "Aisha\n",
            "Enter String  2  : \n",
            "Muhammad\n",
            "Enter String  3  : \n",
            "Nawazn\n",
            "Enter String  4  : \n",
            "aa\n",
            "Count of the number of strings whose first and last chars of the string are the same =  3\n"
          ]
        }
      ]
    },
    {
      "cell_type": "code",
      "source": [
        "#6.6 Group strings in a list (5 Marks)\n",
        "\n",
        "def sortIt(myList,Size):\n",
        "  newList=[]\n",
        "  newList2=[]\n",
        "  i=0\n",
        "  while True:\n",
        "    if(myList[i][0]=='a'):\n",
        "     newList.append(myList[i])\n",
        "    else:\n",
        "      newList2.append(myList[i])\n",
        "    i=i+1\n",
        "    if(i>=int(Size)):\n",
        "      break\n",
        "\n",
        "  sorted(newList)\n",
        "  sorted(newList2)   \n",
        "  newList.append(newList2)\n",
        "  return newList\n",
        "\n",
        "\n",
        "#Taking Inputs from user:\n",
        "#Taking input of size of list\n",
        "listSize=input('Enter number of strings in list: ')\n",
        "\n",
        "\n",
        "#Taking input of strings one by one in list\n",
        "listInp=[]\n",
        "i=0\n",
        "while True:\n",
        "  if(i<int(listSize)):\n",
        "    print('Enter String ',i+1,' : ')\n",
        "    strIn=input()\n",
        "    if(len(strIn)>=2):\n",
        "      listInp.append(strIn)\n",
        "    else:\n",
        "      i=i-1\n",
        "      print('Error! can\\'t take in a string of length less than 2!!')\n",
        "  else:\n",
        "    break\n",
        "  i=i+1\n",
        "sorted(listInp)\n",
        "#sortIt(listInp,listSize)\n"
      ],
      "metadata": {
        "colab": {
          "base_uri": "https://localhost:8080/"
        },
        "id": "cu4ZQc8413bF",
        "outputId": "03e2095c-48b5-4074-8a7c-0eaeee5acb08"
      },
      "execution_count": 72,
      "outputs": [
        {
          "name": "stdout",
          "output_type": "stream",
          "text": [
            "Enter number of strings in list: 5\n",
            "Enter String  1  : \n",
            "mix\n",
            "Enter String  2  : \n",
            "xyz\n",
            "Enter String  3  : \n",
            "apple\n",
            "Enter String  4  : \n",
            "xanadu\n",
            "Enter String  5  : \n",
            "aardvark\n"
          ]
        },
        {
          "output_type": "execute_result",
          "data": {
            "text/plain": [
              "['aardvark', 'apple', 'mix', 'xanadu', 'xyz']"
            ]
          },
          "metadata": {},
          "execution_count": 72
        }
      ]
    },
    {
      "cell_type": "code",
      "source": [
        "#6.7 Sort tuple by last element (5 Marks)\n",
        "myList=[(1,7),(1,3),(3,4,5),(2,2)]\n",
        "print('Input= ',myList)\n",
        "\n",
        "myList2=[] # myList2 will have only last element of each tuple in list\n",
        "for i in range(len(myList)):\n",
        "  myList2.append(myList[i][-1]) \n",
        "\n",
        "myList2=sorted(myList2) # Sorting my last element\n",
        "\n",
        "myList3=[] # Will have result\n",
        "for i in range (len(myList2)): # MATCHING EACH ELEMENT OF MYLIST2 WITH EVERY TUPLE's LAST ELEMENT AND APPENDING TO MYLIST3\n",
        "  for j in range(len(myList)):\n",
        "    if(myList[j][-1]==myList2[i]):\n",
        "     myList3.append(myList[j])\n",
        "\n",
        "print('Output= ',myList3)\n"
      ],
      "metadata": {
        "colab": {
          "base_uri": "https://localhost:8080/"
        },
        "id": "lLtJzxSU-Twp",
        "outputId": "ddce274f-9391-4261-f1cb-2c173fecc6dd"
      },
      "execution_count": 80,
      "outputs": [
        {
          "output_type": "stream",
          "name": "stdout",
          "text": [
            "Input=  [(1, 7), (1, 3), (3, 4, 5), (2, 2)]\n",
            "Output=  [(2, 2), (1, 3), (3, 4, 5), (1, 7)]\n"
          ]
        }
      ]
    },
    {
      "cell_type": "markdown",
      "source": [
        "Aimmimimmmimmp"
      ],
      "metadata": {
        "id": "Skhuj09DbZCE"
      }
    }
  ]
}