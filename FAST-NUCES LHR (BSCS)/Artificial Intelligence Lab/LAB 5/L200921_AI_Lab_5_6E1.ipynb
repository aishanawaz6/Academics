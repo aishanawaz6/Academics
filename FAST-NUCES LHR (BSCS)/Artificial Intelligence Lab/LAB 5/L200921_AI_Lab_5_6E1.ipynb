{
  "nbformat": 4,
  "nbformat_minor": 0,
  "metadata": {
    "colab": {
      "provenance": []
    },
    "kernelspec": {
      "name": "python3",
      "display_name": "Python 3"
    },
    "language_info": {
      "name": "python"
    }
  },
  "cells": [
    {
      "cell_type": "code",
      "execution_count": null,
      "metadata": {
        "colab": {
          "base_uri": "https://localhost:8080/"
        },
        "id": "urXWb2EUibbX",
        "outputId": "cd53bb43-a78b-4334-93b2-9f25c7115fd0"
      },
      "outputs": [
        {
          "output_type": "stream",
          "name": "stdout",
          "text": [
            "Result of Square: \n",
            "[1, 4, 9, 16, 25, 36, 49, 64, 81, 100]\n",
            "Result of Cube: \n",
            "[0.3333333333333333, 0.6666666666666666, 1.0, 1.3333333333333333, 1.6666666666666667, 2.0, 2.3333333333333335, 2.6666666666666665, 3.0, 3.3333333333333335]\n"
          ]
        }
      ],
      "source": [
        "#11.1 For a list of integers, find square and cube for each value using lambda function (10 marks)\n",
        "\n",
        "myList=[1,2,3,4,5,6,7,8,9,10]\n",
        "print('Result of Square: ')\n",
        "getSquare=list(map(lambda myist:myist**2,myList))\n",
        "print(getSquare)\n",
        "\n",
        "print('Result of Cube: ')\n",
        "getCube=list(map(lambda myist:myist**1/3,myList))\n",
        "print(getCube)\n"
      ]
    },
    {
      "cell_type": "code",
      "source": [
        "#11.2 Form a queue such that it works in LIFO order (10 marks)\n",
        "\n",
        "# Simple class\n",
        "class myQueue():\n",
        "  myQueue=[]\n",
        "  def __init__(self):\n",
        "    self.myQueue=[]\n",
        "\n",
        "  def appendIT(self,arr):\n",
        "    self.myQueue.append(arr)\n",
        "\n",
        "  def popIT(self):\n",
        "     return self.myQueue.pop()\n",
        "    \n",
        "  def peakIT(self):\n",
        "    print(self.myQueue[-1])\n",
        "  \n",
        "  def printIT(self):\n",
        "    print(self.myQueue)\n",
        "  \n",
        "  def clearIT(self):\n",
        "    self.myQueue.clear()\n",
        "\n",
        "def main():\n",
        "  q = myQueue()\n",
        "  q.appendIT('Aisha')\n",
        "  q.appendIT('Muhammad')\n",
        "  q.appendIT('Nawaz')\n",
        "  q.printIT()\n",
        "  lastElement=q.popIT()\n",
        "  print(lastElement)\n",
        "  q.peakIT()\n",
        "  q.clearIT()\n",
        "  q.printIT()\n",
        "if __name__== \"__main__\":\n",
        "  main()"
      ],
      "metadata": {
        "colab": {
          "base_uri": "https://localhost:8080/"
        },
        "id": "-Xx9WPYxrMEl",
        "outputId": "02e12031-2c0e-4544-ed7b-03c033bc9a2e"
      },
      "execution_count": null,
      "outputs": [
        {
          "output_type": "stream",
          "name": "stdout",
          "text": [
            "['Aisha', 'Muhammad', 'Nawaz']\n",
            "Nawaz\n",
            "Muhammad\n",
            "[]\n"
          ]
        }
      ]
    },
    {
      "cell_type": "code",
      "source": [
        "#11.3 Create a class for rectangle shape that calculates its area based upon the length and width (10 marks)\n",
        "\n",
        "class Rec:\n",
        "  len=0\n",
        "  wid=0\n",
        "  def __init__(self,lenn,widd):\n",
        "    self.len=lenn\n",
        "    self.wid=widd\n",
        "  def getArea(self):\n",
        "    return self.len*self.wid\n",
        "  def getLength(self):\n",
        "    return self.len\n",
        "  def getWidth(self):\n",
        "    return self.wid\n",
        "\n",
        "def main():\n",
        "  myRec = Rec(1,4)\n",
        "  myArea=myRec.getArea()\n",
        "  print(\"Area of Rectangle 1 is: \",myArea, \", with Lenth \",myRec.getLength(),\" and width \",myRec.getWidth())\n",
        "\n",
        "  myRec2 = Rec(8,4)\n",
        "  myArea2=myRec2.getArea()\n",
        "  print(\"Area of Rectangle 2 is: \",myArea2, \", with Lenth \",myRec2.getLength(),\" and width \",myRec2.getWidth())\n",
        "\n",
        "  myRec3 = Rec(2,9)\n",
        "  myArea3=myRec3.getArea()\n",
        "  print(\"Area of Rectangle 3 is: \",myArea3, \", with Lenth \",myRec3.getLength(),\" and width \",myRec3.getWidth())\n",
        "\n",
        "if __name__== \"__main__\":\n",
        "  main()\n"
      ],
      "metadata": {
        "colab": {
          "base_uri": "https://localhost:8080/"
        },
        "id": "3Do51eBzjnCo",
        "outputId": "4b26e7fe-72c4-4380-b73a-cfa1b2da794c"
      },
      "execution_count": null,
      "outputs": [
        {
          "output_type": "stream",
          "name": "stdout",
          "text": [
            "Area of Rectangle 1 is:  4 , with Lenth  1  and width  4\n",
            "Area of Rectangle 2 is:  32 , with Lenth  8  and width  4\n",
            "Area of Rectangle 3 is:  18 , with Lenth  2  and width  9\n"
          ]
        }
      ]
    },
    {
      "cell_type": "code",
      "source": [],
      "metadata": {
        "id": "mZmh5j0kxT14"
      },
      "execution_count": null,
      "outputs": []
    }
  ]
}