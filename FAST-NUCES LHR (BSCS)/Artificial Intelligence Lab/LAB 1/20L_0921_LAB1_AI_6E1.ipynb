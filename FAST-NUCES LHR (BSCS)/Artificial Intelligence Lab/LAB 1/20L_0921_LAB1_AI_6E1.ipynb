{
  "nbformat": 4,
  "nbformat_minor": 0,
  "metadata": {
    "colab": {
      "provenance": []
    },
    "kernelspec": {
      "name": "python3",
      "display_name": "Python 3"
    },
    "language_info": {
      "name": "python"
    }
  },
  "cells": [
    {
      "cell_type": "code",
      "execution_count": null,
      "metadata": {
        "colab": {
          "base_uri": "https://localhost:8080/"
        },
        "id": "F5G3jWaEaAPI",
        "outputId": "d252cb45-7f8f-41f1-f5ec-466b6df80b09"
      },
      "outputs": [
        {
          "output_type": "stream",
          "name": "stdout",
          "text": [
            "hello world\n",
            "10\n",
            "2.0\n",
            "30.0\n",
            "20.0\n",
            "2\n",
            "30.0\n",
            "20\n",
            "Data type of num_int: <class 'int'>\n",
            "Data type of num_str before Type Casting: <class 'str'>\n",
            "Data type of num_str after Type Casting: <class 'int'>\n",
            "Sum of num_int and num_str: 579\n",
            "Data type of the sum: <class 'int'>\n",
            "Hi,aisha\n",
            "['h', 'e', 'l', 'l', 'o']\n",
            "Array Size :  5\n",
            "Reverse Version:  ['o', 'l', 'l', 'e', 'h']\n",
            "Please enter your array of characters to reverse it: \n",
            "Enter string to check if it is a palindrome: \n",
            "afsf\n",
            "Output: false \n",
            "Explanation:\" afsf \" is not a palindrome.\n",
            "Please enter  a non-negative integer: \n",
            "3\n",
            "Result is:  1.7320508075688772\n"
          ]
        }
      ],
      "source": [
        "#20L-0921 Aisha Muhammad Nawaz BSCS SECTION 6E1 AI LAB 1\n",
        "\n",
        "# Basic Practice:\n",
        "\n",
        "print('hello world')\n",
        "a=5\n",
        "b=5\n",
        "c=a+b\n",
        "print(c)\n",
        "\n",
        "# cast to float\n",
        "x=float(2)\n",
        "y=float(30.0)\n",
        "z=float(\"20\")\n",
        "print(x)\n",
        "print(y)\n",
        "print(z)\n",
        "\n",
        "# cast to str\n",
        "x=str(2)\n",
        "y=str(30.0)\n",
        "z=str(\"20\")\n",
        "print(x)\n",
        "print(y)\n",
        "print(z)\n",
        "\n",
        "# Sum two numbers using typecast\n",
        "num_int = 123\n",
        "num_str = \"456\"\n",
        "print(\"Data type of num_int:\",type(num_int))\n",
        "print(\"Data type of num_str before Type Casting:\",type(num_str))\n",
        "num_str = int(num_str)\n",
        "print(\"Data type of num_str after Type Casting:\",type(num_str))\n",
        "num_sum = num_int + num_str\n",
        "print(\"Sum of num_int and num_str:\",num_sum)\n",
        "print(\"Data type of the sum:\",type(num_sum))\n",
        "\n",
        "name = 'aisha'\n",
        "age = 10\n",
        "if name=='aisha':\n",
        "  print('Hi,aisha')\n",
        "elif age<12:\n",
        "  print('Hello kid!')\n",
        "else:\n",
        "  print('Hi')\n",
        "\n",
        "\n",
        "\n",
        "\n",
        "\n",
        "\n"
      ]
    },
    {
      "cell_type": "code",
      "source": [
        "# 9.1 Reverse String (5 Marks)\n",
        "# Write a function that reverses a string. The input string is given as an array of characters. You can\n",
        "#use Python list to create the array of characters. Do not allocate extra space for another array, you\n",
        "# must do this reversal by modifying the input array in-place with O(1) extra memory.\n",
        "\n",
        "# HardCode Version\n",
        "my_list=[\"h\",\"e\",\"l\",\"l\",\"o\"]\n",
        "print(\"Input: \",my_list)\n",
        "r=len(my_list)-1\n",
        "for i in range (0,2,1):\n",
        "  temp=my_list[i]\n",
        "  my_list[i]=my_list[i+r]\n",
        "  my_list[i+r]=temp\n",
        "  r=r-2\n",
        "print(\"Reverse Version: \",my_list)\n",
        "\n",
        "# Dynamic Version\n",
        "\n",
        "def myReverseFunction(revThisArr):\n",
        "  return revThisArr[::-1]\n",
        "\n",
        "print(\"Please enter your array of characters to reverse it: \")\n",
        "userArr=input()\n",
        "userArr=myReverseFunction(userArr)\n",
        "print(\"Your Reversed Array of characters is: \",userArr)"
      ],
      "metadata": {
        "colab": {
          "base_uri": "https://localhost:8080/"
        },
        "id": "HeqLZZeawEb7",
        "outputId": "0fd41b4f-6008-4d3b-a173-1ac2925be532"
      },
      "execution_count": null,
      "outputs": [
        {
          "output_type": "stream",
          "name": "stdout",
          "text": [
            "Input:  ['h', 'e', 'l', 'l', 'o']\n",
            "Reverse Version:  ['o', 'l', 'l', 'e', 'h']\n",
            "Please enter your array of characters to reverse it: \n",
            "hello\n",
            "Your Reversed Array of characters is:  olleh\n"
          ]
        }
      ]
    },
    {
      "cell_type": "code",
      "source": [
        "# 9.2 Valid Palindrome (10 Marks)\n",
        "#Given a string s, determine if it is a palindrome, considering only alphanumeric characters and\n",
        "#ignoring cases. Refer to this link to learn about Python string functions which might come handy in this task.\n",
        "\n",
        "print(\"Enter string to check if it is a palindrome: \")\n",
        "stringS=input()\n",
        "stringS=stringS.replace(\" \",\"\")\n",
        "stringS=stringS.replace(\",\",\"\")\n",
        "stringS=stringS.replace(\":\",\"\")\n",
        "stringS=stringS.replace(\".\",\"\")\n",
        "stringS=stringS.casefold()\n",
        "\n",
        "checkArray=myReverseFunction(stringS)\n",
        "if checkArray==stringS:\n",
        "  print(\"Output: true \\nExplanation:\\\"\",stringS,\"\\\" is a palindrome.\")\n",
        "else:\n",
        "    print(\"Output: false \\nExplanation:\\\"\",stringS,\"\\\" is not a palindrome.\")"
      ],
      "metadata": {
        "id": "MxKTtWf4v_Yj"
      },
      "execution_count": null,
      "outputs": []
    },
    {
      "cell_type": "code",
      "source": [
        "# 9.3 Sqrt(x) without any built-in methods (10 Marks)\n",
        "#Given a non-negative integer x, compute and return the square root of x.\n",
        "#Since the return type is an integer, the decimal digits are truncated, and only the integer part of the result is returned.\n",
        "\n",
        "def getSqrt(s):\n",
        "  if int(s)<0:\n",
        "    print(\"ERROR! NEGATIVE INTEGER!!\")\n",
        "    return 0\n",
        "  else:\n",
        "    return int(s)**(1/2)\n",
        "\n",
        "print(\"Please enter  a non-negative integer: \")\n",
        "x=input()\n",
        "print(\"Result is: \",int(getSqrt(x)))"
      ],
      "metadata": {
        "colab": {
          "base_uri": "https://localhost:8080/"
        },
        "id": "4wfPN-uOvZ0J",
        "outputId": "418f6e01-2b34-4fdc-85a3-392e3e717745"
      },
      "execution_count": null,
      "outputs": [
        {
          "output_type": "stream",
          "name": "stdout",
          "text": [
            "Please enter  a non-negative integer: \n",
            "5\n",
            "Result is:  2\n"
          ]
        }
      ]
    },
    {
      "cell_type": "code",
      "source": [],
      "metadata": {
        "id": "-UeALNAnwUjU"
      },
      "execution_count": null,
      "outputs": []
    }
  ]
}