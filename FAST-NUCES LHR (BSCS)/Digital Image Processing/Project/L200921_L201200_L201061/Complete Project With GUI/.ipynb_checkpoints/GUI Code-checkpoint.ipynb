{
 "cells": [
  {
   "cell_type": "code",
   "execution_count": 3,
   "id": "ece3e0c6",
   "metadata": {},
   "outputs": [
    {
     "name": "stdout",
     "output_type": "stream",
     "text": [
      " * Serving Flask app '__main__'\n",
      " * Debug mode: on\n"
     ]
    },
    {
     "name": "stderr",
     "output_type": "stream",
     "text": [
      "WARNING: This is a development server. Do not use it in a production deployment. Use a production WSGI server instead.\n",
      " * Running on http://127.0.0.1:3333\n",
      "Press CTRL+C to quit\n",
      "127.0.0.1 - - [05/May/2024 16:01:06] \"GET / HTTP/1.1\" 200 -\n",
      "127.0.0.1 - - [05/May/2024 16:01:07] \"GET /favicon.ico HTTP/1.1\" 404 -\n",
      "C:\\Users\\DELL\\anaconda3\\lib\\site-packages\\numpy\\core\\fromnumeric.py:3432: RuntimeWarning: Mean of empty slice.\n",
      "  return _methods._mean(a, axis=axis, dtype=dtype,\n",
      "C:\\Users\\DELL\\anaconda3\\lib\\site-packages\\numpy\\core\\_methods.py:190: RuntimeWarning: invalid value encountered in double_scalars\n",
      "  ret = ret.dtype.type(ret / rcount)\n",
      "127.0.0.1 - - [05/May/2024 16:01:34] \"POST / HTTP/1.1\" 302 -\n",
      "127.0.0.1 - - [05/May/2024 16:01:34] \"GET /results/b4.jpg/a2.PNG/result_a2.PNG HTTP/1.1\" 200 -\n",
      "127.0.0.1 - - [05/May/2024 16:01:35] \"GET /static/uploads/b4.jpg HTTP/1.1\" 200 -\n",
      "127.0.0.1 - - [05/May/2024 16:01:35] \"GET /static/uploads/a2.PNG HTTP/1.1\" 200 -\n",
      "127.0.0.1 - - [05/May/2024 16:01:35] \"GET /static/results/result_a2.PNG HTTP/1.1\" 200 -\n",
      "127.0.0.1 - - [05/May/2024 16:01:52] \"GET / HTTP/1.1\" 200 -\n"
     ]
    }
   ],
   "source": [
    "from flask import Flask, render_template, request, redirect, url_for, send_from_directory\n",
    "import numpy as np\n",
    "import cv2\n",
    "import os\n",
    "from werkzeug.utils import secure_filename\n",
    "\n",
    "app = Flask(__name__)\n",
    "app.config['UPLOAD_FOLDER'] = 'static/uploads/'\n",
    "app.config['RESULT_FOLDER'] = 'static/results/'\n",
    "\n",
    "# Ensure the upload and result directories exist\n",
    "os.makedirs(app.config['UPLOAD_FOLDER'], exist_ok=True)\n",
    "os.makedirs(app.config['RESULT_FOLDER'], exist_ok=True)\n",
    "\n",
    "def convert_to_grayscale(image):\n",
    "    return cv2.cvtColor(image, cv2.COLOR_BGR2GRAY)\n",
    "\n",
    "def create_matrix_converter(color_image):\n",
    "    matrix_converter = np.zeros((4, 256, 3), dtype=np.uint8)\n",
    "    gray_image = convert_to_grayscale(color_image)\n",
    "    for gray_level in range(256):\n",
    "        gray_indices = np.where(gray_image == gray_level)\n",
    "        mean_red = np.mean(color_image[gray_indices][:, 0])\n",
    "        mean_green = np.mean(color_image[gray_indices][:, 1])\n",
    "        mean_blue = np.mean(color_image[gray_indices][:, 2])\n",
    "        matrix_converter[0, gray_level] = [mean_red, mean_green, mean_blue]\n",
    "        matrix_converter[1:, gray_level] = [gray_level, gray_level, gray_level]\n",
    "    return matrix_converter\n",
    "\n",
    "def pseudo_color(gray_image, matrix_converter):\n",
    "    pseudo_color_image = np.zeros((gray_image.shape[0], gray_image.shape[1], 3), dtype=np.uint8)\n",
    "    for x in range(gray_image.shape[0]):\n",
    "        for y in range(gray_image.shape[1]):\n",
    "            gray_level = gray_image[x, y]\n",
    "            color_values = matrix_converter[:, gray_level, :]\n",
    "            pseudo_color_image[x, y] = color_values[0]\n",
    "    return pseudo_color_image\n",
    "\n",
    "@app.route('/', methods=['GET', 'POST'])\n",
    "def upload_file():\n",
    "    if request.method == 'POST':\n",
    "        color_file = request.files['color_image']\n",
    "        gray_file = request.files['gray_image']\n",
    "        if color_file and gray_file:\n",
    "            color_filename = secure_filename(color_file.filename)\n",
    "            gray_filename = secure_filename(gray_file.filename)\n",
    "            color_filepath = os.path.join(app.config['UPLOAD_FOLDER'], color_filename)\n",
    "            gray_filepath = os.path.join(app.config['UPLOAD_FOLDER'], gray_filename)\n",
    "            color_file.save(color_filepath)\n",
    "            gray_file.save(gray_filepath)\n",
    "\n",
    "            # Load and process images\n",
    "            color_image = cv2.imread(color_filepath)\n",
    "            gray_image = cv2.imread(gray_filepath, cv2.IMREAD_GRAYSCALE)\n",
    "            matrix_converter = create_matrix_converter(color_image)\n",
    "            result_image = pseudo_color(gray_image, matrix_converter)\n",
    "            result_filename = 'result_' + gray_filename\n",
    "            result_filepath = os.path.join(app.config['RESULT_FOLDER'], result_filename)\n",
    "            cv2.imwrite(result_filepath, result_image)\n",
    "\n",
    "            return redirect(url_for('results', color_filename=color_filename, gray_filename=gray_filename, result_filename=result_filename))\n",
    "    return render_template('upload.html')\n",
    "\n",
    "\n",
    "\n",
    "@app.route('/results/<color_filename>/<gray_filename>/<result_filename>')\n",
    "def results(color_filename, gray_filename, result_filename):\n",
    "    return render_template('results.html', color_filename=color_filename, gray_filename=gray_filename, result_filename=result_filename)\n",
    "\n",
    "\n",
    "if __name__ == '__main__':\n",
    "    app.run(debug=True, port=3333, use_reloader=False)"
   ]
  },
  {
   "cell_type": "code",
   "execution_count": null,
   "id": "ae7c2be2",
   "metadata": {},
   "outputs": [],
   "source": []
  }
 ],
 "metadata": {
  "kernelspec": {
   "display_name": "Python 3 (ipykernel)",
   "language": "python",
   "name": "python3"
  },
  "language_info": {
   "codemirror_mode": {
    "name": "ipython",
    "version": 3
   },
   "file_extension": ".py",
   "mimetype": "text/x-python",
   "name": "python",
   "nbconvert_exporter": "python",
   "pygments_lexer": "ipython3",
   "version": "3.10.9"
  }
 },
 "nbformat": 4,
 "nbformat_minor": 5
}
