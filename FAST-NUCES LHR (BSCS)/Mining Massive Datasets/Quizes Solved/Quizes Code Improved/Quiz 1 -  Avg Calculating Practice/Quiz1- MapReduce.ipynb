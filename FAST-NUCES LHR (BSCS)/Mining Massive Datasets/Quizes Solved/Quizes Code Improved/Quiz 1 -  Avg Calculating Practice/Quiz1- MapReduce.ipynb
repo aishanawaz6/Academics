{
 "cells": [
  {
   "cell_type": "code",
   "execution_count": 38,
   "id": "230eb16a",
   "metadata": {},
   "outputs": [
    {
     "name": "stdout",
     "output_type": "stream",
     "text": [
      "Overwriting quiz1.py\n"
     ]
    }
   ],
   "source": [
    "%%file quiz1.py\n",
    "from mrjob.job import MRJob\n",
    "from mrjob.step import MRStep\n",
    "\n",
    "class getAdsInfo(MRJob):\n",
    "    def mapper_init(self):\n",
    "        self.adInfo={}\n",
    "     \n",
    "    def mapper(self,_,line):\n",
    "        uID,adID,action=line.split(\", \")\n",
    "        self.adInfo.setdefault(adID,[0,0,(0,0)]) #Times Skipped, Times Clicked, Times Watched\n",
    "        \n",
    "        if('skip'==action):\n",
    "            self.adInfo[adID][0]=self.adInfo[adID][0]+1\n",
    "        elif('click'==action):\n",
    "            self.adInfo[adID][1]=self.adInfo[adID][1]+1\n",
    "        elif('watch' in action):\n",
    "            duration,count=self.adInfo[adID][2]\n",
    "            newDuration=int(action.split(' ')[1].split('sec')[0])\n",
    "            self.adInfo[adID][2]=duration+newDuration,count+1\n",
    "            \n",
    "    def mapper_final(self):\n",
    "        for key,value in self.adInfo.items():\n",
    "            yield key,value\n",
    "        \n",
    "            \n",
    "    def combiner(self,key,value):\n",
    "        skipCountTotal=0\n",
    "        clickedCountTotal=0\n",
    "        watchDurationTotal=0\n",
    "        watchCountTotal=0\n",
    "        for skipCount,clickedCount,watchCount in value:\n",
    "            skipCountTotal=skipCountTotal+skipCount\n",
    "            clickedCountTotal=clickedCountTotal+clickedCount\n",
    "            \n",
    "            \n",
    "            watchDuration,watchCount=watchCount\n",
    "            watchDurationTotal=watchDurationTotal+watchDuration\n",
    "            watchCountTotal=watchCountTotal+watchCount\n",
    "            \n",
    "        yield key,(skipCountTotal,clickedCountTotal,(watchDurationTotal,watchCountTotal))\n",
    "  \n",
    "        \n",
    "    def reducer(self,key,value):\n",
    "        skipCountTotal=0\n",
    "        clickedCountTotal=0\n",
    "        watchDurationTotal=0\n",
    "        watchCountTotal=0\n",
    "        for skipCount,clickedCount,watchCount in value:\n",
    "            skipCountTotal=skipCountTotal+skipCount\n",
    "            clickedCountTotal=clickedCountTotal+clickedCount\n",
    "            \n",
    "            \n",
    "            watchDuration,watchCount=watchCount\n",
    "            watchDurationTotal=watchDurationTotal+watchDuration\n",
    "            watchCountTotal=watchCountTotal+watchCount\n",
    "\n",
    "            \n",
    "        avgTime=watchDurationTotal/watchCountTotal if watchCountTotal > 0 else 0    \n",
    "        adInformation=\"ADD \"+str(key)+\", skip \"+str(skipCountTotal)+', click '+str(clickedCountTotal)+', watch '+str(watchCountTotal)+'; average time it is watched for '+str(avgTime)+' sec'   \n",
    "        yield \"->\",adInformation\n",
    "        \n",
    "            \n",
    "    \n",
    "    def steps(self):\n",
    "        return [\n",
    "            MRStep(mapper_init=self.mapper_init,\n",
    "                  mapper=self.mapper,\n",
    "                  mapper_final=self.mapper_final,\n",
    "                  combiner=self.combiner,\n",
    "                  reducer=self.reducer)\n",
    "        ]\n",
    "    \n",
    "    \n",
    "if __name__=='__main__':\n",
    "        getAdsInfo.run()"
   ]
  },
  {
   "cell_type": "code",
   "execution_count": 39,
   "id": "80205c07",
   "metadata": {},
   "outputs": [
    {
     "name": "stdout",
     "output_type": "stream",
     "text": [
      "\"->\"\t\"ADD 022, skip 1, click 0, watch 2; average time it is watched for 4.0 sec\"\n",
      "\"->\"\t\"ADD 234, skip 1, click 2, watch 1; average time it is watched for 2.0 sec\"\n"
     ]
    },
    {
     "name": "stderr",
     "output_type": "stream",
     "text": [
      "No configs found; falling back on auto-configuration\n",
      "No configs specified for inline runner\n",
      "Creating temp directory C:\\Users\\DELL\\AppData\\Local\\Temp\\quiz1.DELL.20240531.130734.025289\n",
      "Running step 1 of 1...\n",
      "job output is in C:\\Users\\DELL\\AppData\\Local\\Temp\\quiz1.DELL.20240531.130734.025289\\output\n",
      "Streaming final output from C:\\Users\\DELL\\AppData\\Local\\Temp\\quiz1.DELL.20240531.130734.025289\\output...\n",
      "Removing temp directory C:\\Users\\DELL\\AppData\\Local\\Temp\\quiz1.DELL.20240531.130734.025289...\n"
     ]
    }
   ],
   "source": [
    "!python quiz1.py Advertisments.txt"
   ]
  },
  {
   "cell_type": "code",
   "execution_count": 52,
   "id": "68ed82e0",
   "metadata": {},
   "outputs": [
    {
     "name": "stdout",
     "output_type": "stream",
     "text": [
      "Overwriting getAVG.py\n"
     ]
    }
   ],
   "source": [
    "%%file getAVG.py\n",
    "from mrjob.job import MRJob\n",
    "from mrjob.step import MRStep\n",
    "\n",
    "class GetAverage(MRJob):\n",
    "    def mapper(self, _, line):\n",
    "        yield None,(int(line),1)\n",
    "\n",
    "    def combiner(self, key, values):\n",
    "        sumTotal=0\n",
    "        countTotal=0\n",
    "        for sumVal,countVal in values:\n",
    "            sumTotal=sumTotal+sumVal\n",
    "            countTotal=countTotal+countVal\n",
    "            \n",
    "        yield None,(sumTotal,countTotal)\n",
    "    def reducer(self, key, values):\n",
    "        sumTotal=0\n",
    "        countTotal=0\n",
    "        for sumVal,countVal in values:\n",
    "            sumTotal=sumTotal+sumVal\n",
    "            countTotal=countTotal+countVal       \n",
    "        yield None,(sumTotal/countTotal)\n",
    "\n",
    "    def steps(self):\n",
    "        return [\n",
    "            MRStep(\n",
    "                mapper=self.mapper,\n",
    "                combiner=self.combiner,\n",
    "                reducer=self.reducer\n",
    "            )\n",
    "        ]\n",
    "\n",
    "if __name__ == '__main__':\n",
    "    GetAverage.run()"
   ]
  },
  {
   "cell_type": "code",
   "execution_count": 53,
   "id": "f24ecec7",
   "metadata": {},
   "outputs": [
    {
     "name": "stdout",
     "output_type": "stream",
     "text": [
      "null\t4.4\n"
     ]
    },
    {
     "name": "stderr",
     "output_type": "stream",
     "text": [
      "No configs found; falling back on auto-configuration\n",
      "No configs specified for inline runner\n",
      "Creating temp directory C:\\Users\\DELL\\AppData\\Local\\Temp\\getAVG.DELL.20240531.134005.766303\n",
      "Running step 1 of 1...\n",
      "job output is in C:\\Users\\DELL\\AppData\\Local\\Temp\\getAVG.DELL.20240531.134005.766303\\output\n",
      "Streaming final output from C:\\Users\\DELL\\AppData\\Local\\Temp\\getAVG.DELL.20240531.134005.766303\\output...\n",
      "Removing temp directory C:\\Users\\DELL\\AppData\\Local\\Temp\\getAVG.DELL.20240531.134005.766303...\n"
     ]
    }
   ],
   "source": [
    "!python getAVG.py values.txt"
   ]
  },
  {
   "cell_type": "code",
   "execution_count": null,
   "id": "4c43907a",
   "metadata": {},
   "outputs": [],
   "source": []
  }
 ],
 "metadata": {
  "kernelspec": {
   "display_name": "Python 3.12",
   "language": "python",
   "name": "arbienv"
  },
  "language_info": {
   "codemirror_mode": {
    "name": "ipython",
    "version": 3
   },
   "file_extension": ".py",
   "mimetype": "text/x-python",
   "name": "python",
   "nbconvert_exporter": "python",
   "pygments_lexer": "ipython3",
   "version": "3.12.1"
  }
 },
 "nbformat": 4,
 "nbformat_minor": 5
}
