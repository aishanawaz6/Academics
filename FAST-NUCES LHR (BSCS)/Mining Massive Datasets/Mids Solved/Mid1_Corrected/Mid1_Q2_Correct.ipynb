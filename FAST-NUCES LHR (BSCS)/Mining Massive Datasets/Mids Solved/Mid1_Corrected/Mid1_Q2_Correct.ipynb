{
 "cells": [
  {
   "cell_type": "code",
   "execution_count": 29,
   "id": "33dce96f",
   "metadata": {},
   "outputs": [
    {
     "name": "stdout",
     "output_type": "stream",
     "text": [
      "Overwriting q1.py\n"
     ]
    }
   ],
   "source": [
    "%%file q1.py\n",
    "from mrjob.job import MRJob\n",
    "from mrjob.step import MRStep\n",
    "class CalculateVariance(MRJob):\n",
    "    def map_init(self):\n",
    "        self.marks={}\n",
    "        \n",
    "    def mapper(self,_,line):\n",
    "        course,marks=line.split(\" \")\n",
    "        marks=int(marks)\n",
    "        self.marks.setdefault(course,[0,0,0]) #[] has at 0th index sum , at 1th index square sum and 2nd index count\n",
    "        self.marks[course][0]=self.marks[course][0]+marks\n",
    "        self.marks[course][1]=self.marks[course][1]+marks*marks\n",
    "        self.marks[course][2]=self.marks[course][2]+1\n",
    "        \n",
    "    def mapper_finaly(self):\n",
    "        for c , val in self.marks.items():\n",
    "            yield c,val\n",
    "            \n",
    "    def combiner(self,c,val):\n",
    "        sumT=0\n",
    "        sqSumT=0\n",
    "        countT=0\n",
    "        for summ,sqSum,count in val:\n",
    "            sumT=sumT+summ\n",
    "            sqSumT=sqSumT+sqSum\n",
    "            countT=countT+count\n",
    "            \n",
    "        yield c,[sumT,sqSumT,countT]\n",
    "        \n",
    "    def reducer(self,c,val):\n",
    "        sumT=0\n",
    "        sqSumT=0\n",
    "        countT=0\n",
    "        for summ,sqSum,count in val:\n",
    "            sumT=sumT+summ\n",
    "            sqSumT=sqSumT+sqSum\n",
    "            countT=countT+count\n",
    "            \n",
    "        if (countT-1) > 0 :\n",
    "            var=((sqSumT-(sumT*sumT)/countT)/(countT-1))**0.5\n",
    "        else:\n",
    "            var=0     \n",
    "        yield c,var\n",
    "        \n",
    "    def steps(self):\n",
    "        return [\n",
    "            MRStep(mapper_init=self.map_init,\n",
    "                   mapper=self.mapper,\n",
    "                   mapper_final=self.mapper_finaly,\n",
    "                   combiner=self.combiner,\n",
    "                   reducer=self.reducer)\n",
    "        ]\n",
    "if __name__ == '__main__':\n",
    "        CalculateVariance.run()        "
   ]
  },
  {
   "cell_type": "code",
   "execution_count": 30,
   "id": "936f5cca",
   "metadata": {},
   "outputs": [
    {
     "name": "stdout",
     "output_type": "stream",
     "text": [
      "\"Algorithm\"\t49.49747468305833\n",
      "\"Database\"\t11.086778913041726\n",
      "\"English\"\t1.8257418583505538\n"
     ]
    },
    {
     "name": "stderr",
     "output_type": "stream",
     "text": [
      "No configs found; falling back on auto-configuration\n",
      "No configs specified for inline runner\n",
      "Creating temp directory C:\\Users\\DELL\\AppData\\Local\\Temp\\q1.DELL.20240312.090208.391942\n",
      "Running step 1 of 1...\n",
      "job output is in C:\\Users\\DELL\\AppData\\Local\\Temp\\q1.DELL.20240312.090208.391942\\output\n",
      "Streaming final output from C:\\Users\\DELL\\AppData\\Local\\Temp\\q1.DELL.20240312.090208.391942\\output...\n",
      "Removing temp directory C:\\Users\\DELL\\AppData\\Local\\Temp\\q1.DELL.20240312.090208.391942...\n"
     ]
    }
   ],
   "source": [
    "!python q1.py rec.txt"
   ]
  },
  {
   "cell_type": "code",
   "execution_count": null,
   "id": "ad398e53",
   "metadata": {},
   "outputs": [],
   "source": []
  }
 ],
 "metadata": {
  "kernelspec": {
   "display_name": "Python 3 (ipykernel)",
   "language": "python",
   "name": "python3"
  },
  "language_info": {
   "codemirror_mode": {
    "name": "ipython",
    "version": 3
   },
   "file_extension": ".py",
   "mimetype": "text/x-python",
   "name": "python",
   "nbconvert_exporter": "python",
   "pygments_lexer": "ipython3",
   "version": "3.10.9"
  }
 },
 "nbformat": 4,
 "nbformat_minor": 5
}
