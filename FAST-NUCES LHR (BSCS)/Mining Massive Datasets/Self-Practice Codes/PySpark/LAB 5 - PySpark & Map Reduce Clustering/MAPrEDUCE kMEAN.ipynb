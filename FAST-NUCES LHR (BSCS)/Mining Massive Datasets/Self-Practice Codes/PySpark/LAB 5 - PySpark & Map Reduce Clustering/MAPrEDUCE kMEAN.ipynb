{
 "cells": [
  {
   "cell_type": "code",
   "execution_count": 44,
   "id": "9b559e74",
   "metadata": {},
   "outputs": [
    {
     "name": "stdout",
     "output_type": "stream",
     "text": [
      "Overwriting q1.py\n"
     ]
    }
   ],
   "source": [
    "%%file q1.py\n",
    "from mrjob.job import MRJob\n",
    "from mrjob.step import MRStep\n",
    "from math import sqrt\n",
    "\n",
    "from mrjob.job import MRJob\n",
    "from mrjob.step import MRStep\n",
    "from math import sqrt\n",
    "\n",
    "class MRKMeans(MRJob):\n",
    "\n",
    "    def dist_vec(self, v1, v2):\n",
    "        # Calculate the distance between two vectors (in two dimensions)\n",
    "        return sqrt((v2[0] - v1[0]) ** 2 + (v2[1] - v1[1]) ** 2)\n",
    "    \n",
    "    def configure_args(self):\n",
    "        super(MRKMeans, self).configure_args()\n",
    "        self.add_file_arg('--centroids-file', dest='centroids_file', help='Path to centroids file')\n",
    "\n",
    "    def get_centroids(self):\n",
    "        centroids = []\n",
    "        with open(self.options.centroids_file, 'r') as f:\n",
    "            for line in f:\n",
    "                x, y = map(float, line.strip().split(','))\n",
    "                centroids.append([x, y])\n",
    "        return centroids\n",
    "\n",
    "    def mapper(self, _, lines):\n",
    "        centroids = self.get_centroids()\n",
    "        for line in lines.split('\\n'):\n",
    "            x, y = map(float, line.strip().split(','))\n",
    "            point = [x, y]\n",
    "            min_dist = float('inf')\n",
    "            class_index = 0\n",
    "            for i, centroid in enumerate(centroids):\n",
    "                dist = self.dist_vec(point, centroid)\n",
    "                if dist < min_dist:\n",
    "                    min_dist = dist\n",
    "                    class_index = i\n",
    "            yield class_index, (point,1)\n",
    "\n",
    "    def combiner(self, class_index, points):\n",
    "        count=0\n",
    "        sum_x = sum_y = 0.0\n",
    "        for point in points:\n",
    "            count = count+point[1]\n",
    "            sum_x += point[0][0]\n",
    "            sum_y += point[0][1]\n",
    "        yield class_index, ((sum_x ,sum_y),count)\n",
    "\n",
    "    def reducer(self, class_index, points):\n",
    "        count=0\n",
    "        sum_x = sum_y = 0.0\n",
    "        for point in points:\n",
    "            count = count+point[1]\n",
    "            sum_x += point[0][0]\n",
    "            sum_y += point[0][1]\n",
    "        yield class_index, ((sum_x/count ,sum_y/count))\n",
    "\n",
    "if __name__ == '__main__':\n",
    "    MRKMeans.run()"
   ]
  },
  {
   "cell_type": "code",
   "execution_count": 45,
   "id": "0ba45b08",
   "metadata": {},
   "outputs": [
    {
     "name": "stdout",
     "output_type": "stream",
     "text": [
      "0\t[1.5,2.5]\n",
      "1\t[3.5,4.5]\n",
      "2\t[7.5,8.5]\n"
     ]
    },
    {
     "name": "stderr",
     "output_type": "stream",
     "text": [
      "No configs found; falling back on auto-configuration\n",
      "No configs specified for inline runner\n",
      "Creating temp directory C:\\Users\\DELL\\AppData\\Local\\Temp\\q1.DELL.20240314.183343.824286\n",
      "Running step 1 of 1...\n",
      "job output is in C:\\Users\\DELL\\AppData\\Local\\Temp\\q1.DELL.20240314.183343.824286\\output\n",
      "Streaming final output from C:\\Users\\DELL\\AppData\\Local\\Temp\\q1.DELL.20240314.183343.824286\\output...\n",
      "Removing temp directory C:\\Users\\DELL\\AppData\\Local\\Temp\\q1.DELL.20240314.183343.824286...\n"
     ]
    }
   ],
   "source": [
    "!python q1.py --centroids-file centroids.txt sampleTest.txt\n"
   ]
  },
  {
   "cell_type": "code",
   "execution_count": null,
   "id": "0223e7e0",
   "metadata": {},
   "outputs": [],
   "source": []
  }
 ],
 "metadata": {
  "kernelspec": {
   "display_name": "Python 3 (ipykernel)",
   "language": "python",
   "name": "python3"
  },
  "language_info": {
   "codemirror_mode": {
    "name": "ipython",
    "version": 3
   },
   "file_extension": ".py",
   "mimetype": "text/x-python",
   "name": "python",
   "nbconvert_exporter": "python",
   "pygments_lexer": "ipython3",
   "version": "3.10.9"
  }
 },
 "nbformat": 4,
 "nbformat_minor": 5
}
