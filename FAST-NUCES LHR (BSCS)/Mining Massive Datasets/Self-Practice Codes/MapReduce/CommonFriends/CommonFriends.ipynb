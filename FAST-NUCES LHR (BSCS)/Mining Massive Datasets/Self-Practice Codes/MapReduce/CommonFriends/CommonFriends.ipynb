{
 "cells": [
  {
   "cell_type": "markdown",
   "id": "883d48eb",
   "metadata": {},
   "source": [
    "# Develop an efficient Map reduce algorithm to solve the following real-world problem.\n",
    "\n",
    "• Find set of common friends between any two users on\n",
    "Facebook.\n",
    "• Facebook has a list of friends\n",
    " Note that friends are a bi-directional on Facebook.\n",
    " If I'm your friend, you're mine.\n",
    "\n",
    "• FB have lots of disk space and they serve hundreds of\n",
    "millions of requests every day.\n",
    "• They pre-compute calculations when they can to\n",
    "reduce the processing time of requests.\n",
    "\n",
    "• One common processing request is the ‘Common Friends’ that is you visit\n",
    "someone's profile, you see a list of friends that you have in common.\n",
    "\n",
    "• This list doesn't change frequently so it'd be wasteful to recalculate it every time\n",
    "you visited the profile.\n",
    "\n",
    "• You task is to use map reduce and calculate everyone's common friends once a\n",
    "day and store those results. Later on it's just a quick lookup.\n",
    "\n",
    "• Assume the friends are stored as Person->[List of Friends]  \n",
    "A -> B C D    \n",
    "B -> A C D E  \n",
    "C -> A B D E  \n",
    "D -> A B C E    \n",
    "E -> B C D  "
   ]
  },
  {
   "cell_type": "code",
   "execution_count": 248,
   "id": "0df015ed",
   "metadata": {},
   "outputs": [
    {
     "name": "stdout",
     "output_type": "stream",
     "text": [
      "Overwriting q1.py\n"
     ]
    }
   ],
   "source": [
    "%%file q1.py\n",
    "from mrjob.job import MRJob\n",
    "from mrjob.step import MRStep\n",
    "\n",
    "class CommonFriendsMR(MRJob):\n",
    "    def mapper(self, _, line):\n",
    "        user, friends = line.strip().split('->')\n",
    "        friendsList = friends.split(' ')\n",
    "        \n",
    "        for i in range(len(friendsList)):\n",
    "            for j in range(i + 1, len(friendsList)):\n",
    "                yield tuple(sorted([friendsList[i], friendsList[j]])), user\n",
    "\n",
    "    def reducer(self, key, values):\n",
    "        yield key, list(values)\n",
    "        \n",
    "    def steps(self):\n",
    "        return [\n",
    "            MRStep(mapper=self.mapper, reducer=self.reducer)\n",
    "        ]\n",
    "\n",
    "if __name__ == '__main__':\n",
    "    CommonFriendsMR.run()"
   ]
  },
  {
   "cell_type": "code",
   "execution_count": 249,
   "id": "bbd82278",
   "metadata": {},
   "outputs": [
    {
     "name": "stdout",
     "output_type": "stream",
     "text": [
      "[\"B\",\"C\"]\t[\"A\"]\n",
      "[\"B\",\"D\"]\t[\"A\"]\n",
      "[\"B\",\"E\"]\t[\"A\"]\n",
      "[\"C\",\"D\"]\t[\"A\",\"B\"]\n",
      "[\"C\",\"E\"]\t[\"A\"]\n",
      "[\"C\",\"F\"]\t[\"B\"]\n",
      "[\"D\",\"E\"]\t[\"A\"]\n",
      "[\"D\",\"F\"]\t[\"B\"]\n"
     ]
    },
    {
     "name": "stderr",
     "output_type": "stream",
     "text": [
      "No configs found; falling back on auto-configuration\n",
      "No configs specified for inline runner\n",
      "Creating temp directory C:\\Users\\DELL\\AppData\\Local\\Temp\\q1.DELL.20240224.114445.318526\n",
      "Running step 1 of 1...\n",
      "job output is in C:\\Users\\DELL\\AppData\\Local\\Temp\\q1.DELL.20240224.114445.318526\\output\n",
      "Streaming final output from C:\\Users\\DELL\\AppData\\Local\\Temp\\q1.DELL.20240224.114445.318526\\output...\n",
      "Removing temp directory C:\\Users\\DELL\\AppData\\Local\\Temp\\q1.DELL.20240224.114445.318526...\n"
     ]
    }
   ],
   "source": [
    "!python q1.py file.txt"
   ]
  },
  {
   "cell_type": "code",
   "execution_count": null,
   "id": "67efbf19",
   "metadata": {},
   "outputs": [],
   "source": []
  }
 ],
 "metadata": {
  "kernelspec": {
   "display_name": "Python 3 (ipykernel)",
   "language": "python",
   "name": "python3"
  },
  "language_info": {
   "codemirror_mode": {
    "name": "ipython",
    "version": 3
   },
   "file_extension": ".py",
   "mimetype": "text/x-python",
   "name": "python",
   "nbconvert_exporter": "python",
   "pygments_lexer": "ipython3",
   "version": "3.10.9"
  }
 },
 "nbformat": 4,
 "nbformat_minor": 5
}
