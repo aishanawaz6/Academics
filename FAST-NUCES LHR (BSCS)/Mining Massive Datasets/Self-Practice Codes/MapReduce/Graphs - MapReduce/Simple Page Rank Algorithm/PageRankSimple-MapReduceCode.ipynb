{
 "cells": [
  {
   "cell_type": "code",
   "execution_count": 12,
   "id": "84f64728",
   "metadata": {},
   "outputs": [
    {
     "name": "stdout",
     "output_type": "stream",
     "text": [
      "Overwriting q1.py\n"
     ]
    }
   ],
   "source": [
    "%%file q1.py\n",
    "# NOT SURE OF ACCURACY OF THIS CODE\n",
    "from mrjob.job import MRJob\n",
    "from mrjob.step import MRStep\n",
    "\n",
    "class pageRankSimple(MRJob):\n",
    "    def mapper(self, _, line):\n",
    "        vertexImp, neighbors = line.strip().split('->')\n",
    "        neighborsList = neighbors.split(',')\n",
    "        vertex,imp = vertexImp.split(',')\n",
    "        #First Type of Packet Generation         \n",
    "        for neighbor in neighborsList:\n",
    "            yield vertex,(neighbor,'n')\n",
    "          \n",
    "        #Second Type of Packet Generation\n",
    "        eachImp=float(float(imp)/len(neighborsList))\n",
    "        for neigbor in neighborsList:\n",
    "            yield neigbor,(eachImp,'imp')\n",
    "\n",
    "    def reducer(self, key, values):\n",
    "        sumImp=0\n",
    "        neighbors=[]\n",
    "        for value in values:\n",
    "            if(value[1]=='imp'):\n",
    "                sumImp=sumImp+value[0]\n",
    "            else:\n",
    "                neighbors.append(value[0])\n",
    "                \n",
    "        yield key,sumImp\n",
    "        if(neighbors):\n",
    "            yield key,neighbors\n",
    "        \n",
    "    def steps(self):\n",
    "        return [\n",
    "            MRStep(mapper=self.mapper, reducer=self.reducer)\n",
    "        ]\n",
    "\n",
    "if __name__ == '__main__':\n",
    "    pageRankSimple.run()"
   ]
  },
  {
   "cell_type": "code",
   "execution_count": 13,
   "id": "24a7e6e6",
   "metadata": {},
   "outputs": [
    {
     "name": "stdout",
     "output_type": "stream",
     "text": [
      "\"0\"\t0.8\n",
      "\"1\"\t0.8\n",
      "\"1\"\t[\"2\",\"4\"]\n",
      "\"2\"\t1.6\n",
      "\"2\"\t[\"3\",\"4\"]\n",
      "\"3\"\t1.2000000000000002\n",
      "\"3\"\t[\"1\"]\n",
      "\"4\"\t0.8\n",
      "\"4\"\t[\"0\"]\n",
      "\"5\"\t0\n",
      "\"5\"\t[\"6\",\"2\"]\n",
      "\"6\"\t0.4\n",
      "\"6\"\t[\"3\"]\n",
      "\"7\"\t0\n",
      "\"7\"\t[\"2\"]\n"
     ]
    },
    {
     "name": "stderr",
     "output_type": "stream",
     "text": [
      "No configs found; falling back on auto-configuration\n",
      "No configs specified for inline runner\n",
      "Creating temp directory C:\\Users\\DELL\\AppData\\Local\\Temp\\q1.DELL.20240501.061509.155135\n",
      "Running step 1 of 1...\n",
      "job output is in C:\\Users\\DELL\\AppData\\Local\\Temp\\q1.DELL.20240501.061509.155135\\output\n",
      "Streaming final output from C:\\Users\\DELL\\AppData\\Local\\Temp\\q1.DELL.20240501.061509.155135\\output...\n",
      "Removing temp directory C:\\Users\\DELL\\AppData\\Local\\Temp\\q1.DELL.20240501.061509.155135...\n"
     ]
    }
   ],
   "source": [
    "!python q1.py file3.txt"
   ]
  },
  {
   "cell_type": "code",
   "execution_count": null,
   "id": "d3a80807",
   "metadata": {},
   "outputs": [],
   "source": []
  }
 ],
 "metadata": {
  "kernelspec": {
   "display_name": "Python 3 (ipykernel)",
   "language": "python",
   "name": "python3"
  },
  "language_info": {
   "codemirror_mode": {
    "name": "ipython",
    "version": 3
   },
   "file_extension": ".py",
   "mimetype": "text/x-python",
   "name": "python",
   "nbconvert_exporter": "python",
   "pygments_lexer": "ipython3",
   "version": "3.10.9"
  }
 },
 "nbformat": 4,
 "nbformat_minor": 5
}
