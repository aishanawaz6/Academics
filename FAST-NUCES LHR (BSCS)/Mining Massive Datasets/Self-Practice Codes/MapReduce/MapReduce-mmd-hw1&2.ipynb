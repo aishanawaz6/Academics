{
 "cells": [
  {
   "cell_type": "markdown",
   "id": "4cea8397",
   "metadata": {},
   "source": [
    "# Q1. Execute the simple word count code using MRjob library in python"
   ]
  },
  {
   "cell_type": "code",
   "execution_count": 1,
   "id": "111cbf61",
   "metadata": {},
   "outputs": [
    {
     "name": "stdout",
     "output_type": "stream",
     "text": [
      "Writing rc.py\n"
     ]
    }
   ],
   "source": [
    "%%file rc.py\n",
    "from mrjob.job import MRJob\n",
    "class WordCount(MRJob):\n",
    "    def mapper(self, _, line):\n",
    "         for word in line.split():\n",
    "             yield(word, 1)\n",
    "\n",
    "    def reducer(self, word, counts):\n",
    "        yield(word, sum(counts))\n",
    "\n",
    "if __name__ == '__main__':\n",
    "    WordCount.run()"
   ]
  },
  {
   "cell_type": "code",
   "execution_count": 3,
   "id": "36413197",
   "metadata": {},
   "outputs": [
    {
     "name": "stdout",
     "output_type": "stream",
     "text": [
      "\"Aisha\"\t2\n",
      "\"Muhammad\"\t1\n",
      "\"Nawaz\"\t1\n"
     ]
    },
    {
     "name": "stderr",
     "output_type": "stream",
     "text": [
      "No configs found; falling back on auto-configuration\n",
      "No configs specified for inline runner\n",
      "Creating temp directory C:\\Users\\DELL\\AppData\\Local\\Temp\\rc.DELL.20240125.161314.467006\n",
      "Running step 1 of 1...\n",
      "job output is in C:\\Users\\DELL\\AppData\\Local\\Temp\\rc.DELL.20240125.161314.467006\\output\n",
      "Streaming final output from C:\\Users\\DELL\\AppData\\Local\\Temp\\rc.DELL.20240125.161314.467006\\output...\n",
      "Removing temp directory C:\\Users\\DELL\\AppData\\Local\\Temp\\rc.DELL.20240125.161314.467006...\n"
     ]
    }
   ],
   "source": [
    "!python rc.py u.txt"
   ]
  },
  {
   "cell_type": "markdown",
   "id": "07f60bd5",
   "metadata": {},
   "source": [
    "# 2. Modify above program to report number of words beginning with each English Alphabets"
   ]
  },
  {
   "cell_type": "code",
   "execution_count": 30,
   "id": "5753f731",
   "metadata": {},
   "outputs": [
    {
     "name": "stdout",
     "output_type": "stream",
     "text": [
      "Overwriting q2.py\n"
     ]
    }
   ],
   "source": [
    "%%file q2.py\n",
    "from mrjob.job import MRJob\n",
    "class WordCountEachAlphabet(MRJob):\n",
    "    def mapper(self, _, line):\n",
    "         for word in line.split():\n",
    "                yield(word[0], 1)\n",
    "\n",
    "    def reducer(self, word, counts):\n",
    "        yield(word, sum(counts))\n",
    "\n",
    "if __name__ == '__main__':\n",
    "    WordCountEachAlphabet.run()"
   ]
  },
  {
   "cell_type": "code",
   "execution_count": 32,
   "id": "27950b0b",
   "metadata": {},
   "outputs": [
    {
     "name": "stdout",
     "output_type": "stream",
     "text": [
      "\"A\"\t5\n",
      "\"B\"\t1\n",
      "\"C\"\t1\n",
      "\"D\"\t2\n",
      "\"K\"\t1\n"
     ]
    },
    {
     "name": "stderr",
     "output_type": "stream",
     "text": [
      "No configs found; falling back on auto-configuration\n",
      "No configs specified for inline runner\n",
      "Creating temp directory C:\\Users\\DELL\\AppData\\Local\\Temp\\q2.DELL.20240125.162650.644091\n",
      "Running step 1 of 1...\n",
      "job output is in C:\\Users\\DELL\\AppData\\Local\\Temp\\q2.DELL.20240125.162650.644091\\output\n",
      "Streaming final output from C:\\Users\\DELL\\AppData\\Local\\Temp\\q2.DELL.20240125.162650.644091\\output...\n",
      "Removing temp directory C:\\Users\\DELL\\AppData\\Local\\Temp\\q2.DELL.20240125.162650.644091...\n"
     ]
    }
   ],
   "source": [
    "!python q2.py u2.txt"
   ]
  },
  {
   "cell_type": "markdown",
   "id": "cfebbcbe",
   "metadata": {},
   "source": [
    "# 3. Modify above program to print only words that occur more than 5 times"
   ]
  },
  {
   "cell_type": "code",
   "execution_count": 35,
   "id": "2771a28a",
   "metadata": {},
   "outputs": [
    {
     "name": "stdout",
     "output_type": "stream",
     "text": [
      "Overwriting q3.py\n"
     ]
    }
   ],
   "source": [
    "%%file q3.py\n",
    "from mrjob.job import MRJob\n",
    "class WordCountMoreThanFive(MRJob):\n",
    "    def mapper(self, _, line):\n",
    "         for word in line.split():\n",
    "                yield(word[0], 1)\n",
    "\n",
    "    def reducer(self, word, counts):\n",
    "        if(sum(counts)>5):\n",
    "            yield(word, \"Occurs More Than Five Times\")\n",
    "\n",
    "if __name__ == '__main__':\n",
    "    WordCountMoreThanFive.run()"
   ]
  },
  {
   "cell_type": "code",
   "execution_count": 36,
   "id": "df0b4fd2",
   "metadata": {},
   "outputs": [
    {
     "name": "stdout",
     "output_type": "stream",
     "text": [
      "\"A\"\t\"Occurs More Than Five Times\"\n",
      "\"D\"\t\"Occurs More Than Five Times\"\n"
     ]
    },
    {
     "name": "stderr",
     "output_type": "stream",
     "text": [
      "No configs found; falling back on auto-configuration\n",
      "No configs specified for inline runner\n",
      "Creating temp directory C:\\Users\\DELL\\AppData\\Local\\Temp\\q3.DELL.20240125.163253.796035\n",
      "Running step 1 of 1...\n",
      "job output is in C:\\Users\\DELL\\AppData\\Local\\Temp\\q3.DELL.20240125.163253.796035\\output\n",
      "Streaming final output from C:\\Users\\DELL\\AppData\\Local\\Temp\\q3.DELL.20240125.163253.796035\\output...\n",
      "Removing temp directory C:\\Users\\DELL\\AppData\\Local\\Temp\\q3.DELL.20240125.163253.796035...\n"
     ]
    }
   ],
   "source": [
    "!python q3.py u2.txt"
   ]
  },
  {
   "cell_type": "markdown",
   "id": "3880f3eb",
   "metadata": {},
   "source": [
    "# Hw2: Using Combiner"
   ]
  },
  {
   "cell_type": "code",
   "execution_count": 1,
   "id": "d186f8cf",
   "metadata": {},
   "outputs": [
    {
     "name": "stdout",
     "output_type": "stream",
     "text": [
      "Writing hw2.py\n"
     ]
    }
   ],
   "source": [
    "%%file hw2.py\n",
    "from mrjob.job import MRJob\n",
    "class WordCount(MRJob):\n",
    "    def mapper(self, _, line):\n",
    "         for word in line.split():\n",
    "             yield(word, 1)\n",
    "    def combiner(self, word,counts):\n",
    "        yield(word,sum(counts))\n",
    "    def reducer(self, word, counts):\n",
    "        yield(word, sum(counts))\n",
    "\n",
    "if __name__ == '__main__':\n",
    "    WordCount.run()"
   ]
  },
  {
   "cell_type": "code",
   "execution_count": 3,
   "id": "cff94402",
   "metadata": {},
   "outputs": [
    {
     "name": "stdout",
     "output_type": "stream",
     "text": [
      "\"Aisha\"\t2\n",
      "\"Muhammad\"\t1\n",
      "\"Nawaz\"\t1\n"
     ]
    },
    {
     "name": "stderr",
     "output_type": "stream",
     "text": [
      "No configs found; falling back on auto-configuration\n",
      "No configs specified for inline runner\n",
      "Creating temp directory C:\\Users\\DELL\\AppData\\Local\\Temp\\hw2.DELL.20240131.171550.281661\n",
      "Running step 1 of 1...\n",
      "job output is in C:\\Users\\DELL\\AppData\\Local\\Temp\\hw2.DELL.20240131.171550.281661\\output\n",
      "Streaming final output from C:\\Users\\DELL\\AppData\\Local\\Temp\\hw2.DELL.20240131.171550.281661\\output...\n",
      "Removing temp directory C:\\Users\\DELL\\AppData\\Local\\Temp\\hw2.DELL.20240131.171550.281661...\n"
     ]
    }
   ],
   "source": [
    "!python hw2.py u.txt"
   ]
  },
  {
   "cell_type": "code",
   "execution_count": null,
   "id": "a199622b",
   "metadata": {},
   "outputs": [],
   "source": []
  }
 ],
 "metadata": {
  "kernelspec": {
   "display_name": "Python 3 (ipykernel)",
   "language": "python",
   "name": "python3"
  },
  "language_info": {
   "codemirror_mode": {
    "name": "ipython",
    "version": 3
   },
   "file_extension": ".py",
   "mimetype": "text/x-python",
   "name": "python",
   "nbconvert_exporter": "python",
   "pygments_lexer": "ipython3",
   "version": "3.10.9"
  }
 },
 "nbformat": 4,
 "nbformat_minor": 5
}
