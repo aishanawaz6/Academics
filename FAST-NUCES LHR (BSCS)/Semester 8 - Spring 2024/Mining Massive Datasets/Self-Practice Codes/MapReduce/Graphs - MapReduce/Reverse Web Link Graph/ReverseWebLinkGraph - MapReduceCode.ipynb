{
 "cells": [
  {
   "cell_type": "code",
   "execution_count": 1,
   "id": "0df015ed",
   "metadata": {},
   "outputs": [
    {
     "name": "stdout",
     "output_type": "stream",
     "text": [
      "Writing q1.py\n"
     ]
    }
   ],
   "source": [
    "%%file q1.py\n",
    "from mrjob.job import MRJob\n",
    "from mrjob.step import MRStep\n",
    "\n",
    "class ReverseWebLinkGraph(MRJob):\n",
    "    def mapper(self, _, line):\n",
    "        vertex, neighbors = line.strip().split('->')\n",
    "        neighborsList = neighbors.split(',')\n",
    "        \n",
    "        for nieghbor in neighborsList:\n",
    "            yield nieghbor,vertex\n",
    "\n",
    "    def reducer(self, key, values):\n",
    "        yield key, list(values)\n",
    "        \n",
    "    def steps(self):\n",
    "        return [\n",
    "            MRStep(mapper=self.mapper, reducer=self.reducer)\n",
    "        ]\n",
    "\n",
    "if __name__ == '__main__':\n",
    "    ReverseWebLinkGraph.run()"
   ]
  },
  {
   "cell_type": "code",
   "execution_count": 2,
   "id": "bbd82278",
   "metadata": {},
   "outputs": [
    {
     "name": "stdout",
     "output_type": "stream",
     "text": [
      "\"0\"\t[\"4\"]\n",
      "\"1\"\t[\"3\"]\n",
      "\"2\"\t[\"1\",\"5\",\"7\"]\n",
      "\"3\"\t[\"2\",\"6\"]\n",
      "\"4\"\t[\"1\",\"2\"]\n",
      "\"6\"\t[\"5\"]\n"
     ]
    },
    {
     "name": "stderr",
     "output_type": "stream",
     "text": [
      "No configs found; falling back on auto-configuration\n",
      "No configs specified for inline runner\n",
      "Creating temp directory C:\\Users\\DELL\\AppData\\Local\\Temp\\q1.DELL.20240430.170913.836651\n",
      "Running step 1 of 1...\n",
      "job output is in C:\\Users\\DELL\\AppData\\Local\\Temp\\q1.DELL.20240430.170913.836651\\output\n",
      "Streaming final output from C:\\Users\\DELL\\AppData\\Local\\Temp\\q1.DELL.20240430.170913.836651\\output...\n",
      "Removing temp directory C:\\Users\\DELL\\AppData\\Local\\Temp\\q1.DELL.20240430.170913.836651...\n"
     ]
    }
   ],
   "source": [
    "!python q1.py file.txt"
   ]
  },
  {
   "cell_type": "code",
   "execution_count": null,
   "id": "67efbf19",
   "metadata": {},
   "outputs": [],
   "source": []
  }
 ],
 "metadata": {
  "kernelspec": {
   "display_name": "Python 3 (ipykernel)",
   "language": "python",
   "name": "python3"
  },
  "language_info": {
   "codemirror_mode": {
    "name": "ipython",
    "version": 3
   },
   "file_extension": ".py",
   "mimetype": "text/x-python",
   "name": "python",
   "nbconvert_exporter": "python",
   "pygments_lexer": "ipython3",
   "version": "3.10.9"
  }
 },
 "nbformat": 4,
 "nbformat_minor": 5
}
