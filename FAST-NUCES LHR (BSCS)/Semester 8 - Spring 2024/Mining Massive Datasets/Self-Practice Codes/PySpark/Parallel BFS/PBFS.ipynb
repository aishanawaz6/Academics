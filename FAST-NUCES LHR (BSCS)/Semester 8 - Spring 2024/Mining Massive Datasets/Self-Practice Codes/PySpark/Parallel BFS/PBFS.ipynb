{
 "cells": [
  {
   "cell_type": "code",
   "execution_count": 1,
   "id": "7ae9b361",
   "metadata": {},
   "outputs": [],
   "source": [
    "import pyspark\n",
    "from pyspark import SparkContext, SparkConf\n",
    "from pyspark.sql import SparkSession \n",
    "\n",
    "conf = pyspark.SparkConf().setAppName('appName').setMaster('local')\n",
    "sc = pyspark.SparkContext(conf=conf)\n",
    "spark = SparkSession(sc)\n"
   ]
  },
  {
   "cell_type": "code",
   "execution_count": 2,
   "id": "f372b5b1",
   "metadata": {},
   "outputs": [
    {
     "data": {
      "text/html": [
       "\n",
       "            <div>\n",
       "                <p><b>SparkSession - in-memory</b></p>\n",
       "                \n",
       "        <div>\n",
       "            <p><b>SparkContext</b></p>\n",
       "\n",
       "            <p><a href=\"http://Rizwan:4040\">Spark UI</a></p>\n",
       "\n",
       "            <dl>\n",
       "              <dt>Version</dt>\n",
       "                <dd><code>v3.5.0</code></dd>\n",
       "              <dt>Master</dt>\n",
       "                <dd><code>local</code></dd>\n",
       "              <dt>AppName</dt>\n",
       "                <dd><code>appName</code></dd>\n",
       "            </dl>\n",
       "        </div>\n",
       "        \n",
       "            </div>\n",
       "        "
      ],
      "text/plain": [
       "<pyspark.sql.session.SparkSession at 0x2ce905fdf50>"
      ]
     },
     "execution_count": 2,
     "metadata": {},
     "output_type": "execute_result"
    }
   ],
   "source": [
    "spark"
   ]
  },
  {
   "cell_type": "code",
   "execution_count": 23,
   "id": "35dcb0a1",
   "metadata": {},
   "outputs": [],
   "source": [
    "def splitNeighbours(parentPath,parentDist,neighbour):\n",
    "    \n",
    "    nid, weight = neighbour.split(',')\n",
    "    dist = int(weight) + parentDist\n",
    "    path = parentPath + '->' + nid\n",
    "    \n",
    "    return (nid, (dist,'None',path))\n",
    "    \n",
    "        \n",
    "        \n",
    "        "
   ]
  },
  {
   "cell_type": "code",
   "execution_count": 11,
   "id": "01acb394",
   "metadata": {},
   "outputs": [],
   "source": [
    "def minDistance(x,y):\n",
    "    z = [0,0,0]\n",
    "    \n",
    "    if x[0] < y[0]:\n",
    "        z[0] = x[0]\n",
    "        z[2] = x[2]\n",
    "        \n",
    "    else:\n",
    "        z[0] = y[0]\n",
    "        z[2] = y[2]\n",
    "    \n",
    "    if x[1] == 'None':\n",
    "        z[1] = y[1]\n",
    "        \n",
    "    else:\n",
    "        z[1] = x[1]\n",
    "    \n",
    "    return tuple(z)\n",
    "    \n",
    "        "
   ]
  },
  {
   "cell_type": "code",
   "execution_count": 31,
   "id": "fabaa671",
   "metadata": {},
   "outputs": [
    {
     "data": {
      "text/plain": [
       "[('4', (9, ['5,4'], '1->3->2->4')),\n",
       " ('5', (7, ['1,7', '4,6'], '1->3->5')),\n",
       " ('1', (0, ['2,10', '3,5'], '1')),\n",
       " ('3', (5, ['2,3', '4,9', '5,2'], '1->3')),\n",
       " ('2', (8, ['3,2', '4,1'], '1->3->2'))]"
      ]
     },
     "execution_count": 31,
     "metadata": {},
     "output_type": "execute_result"
    }
   ],
   "source": [
    "rdd1 = sc.parallelize([('1', (0,['2,10','3,5'],'1')),('2', (999,['3,2','4,1'],'2')),('3', (999,['2,3','4,9','5,2'],'3')),\n",
    "                    ('4', (999,['5,4'],'4')),('5', (999,['1,7','4,6'],'5'))])\n",
    "n = 0\n",
    "\n",
    "while n < 4 :\n",
    "    \n",
    "    rdd2 = rdd1.map(lambda x: x[1])\n",
    "    rdd3 = rdd2.map(lambda nodeData: map(lambda neighbour: splitNeighbours(nodeData[2],nodeData[0],neighbour),nodeData[1])).flatMap(lambda x: x)\n",
    "    rdd4 = rdd1.union(rdd3)\n",
    "    rdd5 = rdd4.reduceByKey(lambda x,y: minDistance(x,y))\n",
    "    rdd1 = rdd5\n",
    "    n = n + 1\n",
    "\n",
    "rdd1.collect()"
   ]
  },
  {
   "cell_type": "code",
   "execution_count": null,
   "id": "83fc5f15",
   "metadata": {},
   "outputs": [],
   "source": []
  }
 ],
 "metadata": {
  "kernelspec": {
   "display_name": "Python 3 (ipykernel)",
   "language": "python",
   "name": "python3"
  },
  "language_info": {
   "codemirror_mode": {
    "name": "ipython",
    "version": 3
   },
   "file_extension": ".py",
   "mimetype": "text/x-python",
   "name": "python",
   "nbconvert_exporter": "python",
   "pygments_lexer": "ipython3",
   "version": "3.11.5"
  }
 },
 "nbformat": 4,
 "nbformat_minor": 5
}
