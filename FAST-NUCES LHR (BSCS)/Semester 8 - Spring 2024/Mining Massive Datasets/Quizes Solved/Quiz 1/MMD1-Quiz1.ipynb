{
 "cells": [
  {
   "cell_type": "markdown",
   "id": "4afb272b",
   "metadata": {},
   "source": [
    "# MMD Quiz 1 - 15th February 2024\n",
    "### Advertisments.txt\n",
    "##### File is structered such that first comes user ID then advertisement ID and then user action. User action can be of 3 types : skip, click, watch for n seconds\n",
    "e.g  \n",
    "#### Sample Input\n",
    "1033,203,watch for 20 secs  \n",
    "1011,203,skip  \n",
    "1022,204,click  \n",
    "1033,205,watch for 5 secs  \n",
    "1044,205,skip  \n",
    "1055,206,click  \n",
    "1066,206,click  \n",
    "1088,206,click  \n",
    "1099,203,skip  \n",
    "1113,205,watch for 5 secs  \n",
    "1116,205,watch for 2 secs  \n",
    "1119,205,watch for 9 secs  \n",
    "\n",
    "#### Expected Output\n",
    "\"AD ID 203 -> \"\t\"Skipped 2 times, Clicked 0 times, Watched on Average 20.0 secs\"  \n",
    "\"AD ID 204 -> \"\t\"Skipped 0 times, Clicked 1 times, Watched on Average 0 secs\"  \n",
    "\"AD ID 205 -> \"\t\"Skipped 1 times, Clicked 0 times, Watched on Average 5.25 secs\"  \n",
    "\"AD ID 206 -> \"\t\"Skipped 0 times, Clicked 3 times, Watched on Average 0 secs\"  \n",
    "\n",
    "##### Find Ad Id , times skipped, clicked and average time watched by users\n"
   ]
  },
  {
   "cell_type": "code",
   "execution_count": 8,
   "id": "1555e174",
   "metadata": {},
   "outputs": [
    {
     "name": "stdout",
     "output_type": "stream",
     "text": [
      "Overwriting quiz1.py\n"
     ]
    }
   ],
   "source": [
    "%%file quiz1.py\n",
    "from mrjob.job import MRJob\n",
    "from mrjob.step import MRStep\n",
    "\n",
    "class findAdsInformation(MRJob):\n",
    "    \n",
    "    def mapper_init(self):\n",
    "        self.adsInfo={}\n",
    "    def mapper(self,_,line):\n",
    "        userID,adsID,action=line.split(',')\n",
    "        self.adsInfo.setdefault(adsID,[0,0,(0,0)]) #List of Skipped, Clicked & Watched(Duration watched,Number of times watched)\n",
    "        if(action=='skip'):\n",
    "            self.adsInfo[adsID][0]=self.adsInfo[adsID][0]+1\n",
    "        elif(action=='click'):\n",
    "            self.adsInfo[adsID][1]=self.adsInfo[adsID][1]+1\n",
    "        elif('watch' in action ):\n",
    "            time,count=self.adsInfo[adsID][2]\n",
    "            self.adsInfo[adsID][2]=(time+int(action.split('for')[1].split('secs')[0].strip()),count+1)\n",
    "            \n",
    "    def mapper_final(self):\n",
    "        for adsID,count in self.adsInfo.items():\n",
    "            yield adsID,count\n",
    "        \n",
    "    def combiner_reducer(self,key,value):\n",
    "        skippedCount=0\n",
    "        clickedCount=0\n",
    "        watchCount=0\n",
    "        watchSum=0\n",
    "        \n",
    "        for scount,ccount,wCount in value:\n",
    "            skippedCount=skippedCount+scount\n",
    "            clickedCount=clickedCount+ccount\n",
    "            sumW,countW=wCount\n",
    "            watchCount=watchCount+countW\n",
    "            watchSum=watchSum+sumW\n",
    "            \n",
    "        yield key,(skippedCount,clickedCount,(watchCount,watchSum))\n",
    "    def printReducer(self,key,value):\n",
    "        skippedCount=0\n",
    "        clickedCount=0\n",
    "        watchCount=0\n",
    "        watchSum=0\n",
    "        \n",
    "        for scount,ccount,wCount in value:\n",
    "            skippedCount=skippedCount+scount\n",
    "            clickedCount=clickedCount+ccount\n",
    "            sumW,countW=wCount\n",
    "            watchCount=watchCount+countW\n",
    "            watchSum=watchSum+sumW\n",
    "            \n",
    "        if(watchCount>0):\n",
    "            avgWatched=watchSum/watchCount\n",
    "        else:\n",
    "            avgWatched=0\n",
    "        information=('Skipped '+str(skippedCount)+' times, Clicked '+ str(clickedCount) + ' times, Watched on Average '+str(avgWatched)+' secs')  \n",
    "        key='AD ID ' + key + ' -> '\n",
    "        \n",
    "        yield key,information     \n",
    "        \n",
    "    def steps(self):\n",
    "        return [\n",
    "            MRStep(mapper_init=self.mapper_init,\n",
    "            mapper=self.mapper,\n",
    "            mapper_final=self.mapper_final,\n",
    "            combiner=self.combiner_reducer,\n",
    "            reducer=self.combiner_reducer),\n",
    "            MRStep(reducer=self.printReducer)\n",
    "        ]\n",
    "    \n",
    "if __name__=='__main__':\n",
    "    findAdsInformation.run()"
   ]
  },
  {
   "cell_type": "code",
   "execution_count": 9,
   "id": "6c68731f",
   "metadata": {},
   "outputs": [
    {
     "name": "stdout",
     "output_type": "stream",
     "text": [
      "\"AD ID 203 -> \"\t\"Skipped 2 times, Clicked 0 times, Watched on Average 20.0 secs\"\n",
      "\"AD ID 204 -> \"\t\"Skipped 0 times, Clicked 1 times, Watched on Average 0 secs\"\n",
      "\"AD ID 205 -> \"\t\"Skipped 1 times, Clicked 0 times, Watched on Average 5.25 secs\"\n",
      "\"AD ID 206 -> \"\t\"Skipped 0 times, Clicked 3 times, Watched on Average 0 secs\"\n"
     ]
    },
    {
     "name": "stderr",
     "output_type": "stream",
     "text": [
      "No configs found; falling back on auto-configuration\n",
      "No configs specified for inline runner\n",
      "Creating temp directory C:\\Users\\DELL\\AppData\\Local\\Temp\\quiz1.DELL.20240215.104745.983858\n",
      "Running step 1 of 2...\n",
      "Running step 2 of 2...\n",
      "job output is in C:\\Users\\DELL\\AppData\\Local\\Temp\\quiz1.DELL.20240215.104745.983858\\output\n",
      "Streaming final output from C:\\Users\\DELL\\AppData\\Local\\Temp\\quiz1.DELL.20240215.104745.983858\\output...\n",
      "Removing temp directory C:\\Users\\DELL\\AppData\\Local\\Temp\\quiz1.DELL.20240215.104745.983858...\n"
     ]
    }
   ],
   "source": [
    "!python quiz1.py Advertisments.txt"
   ]
  }
 ],
 "metadata": {
  "kernelspec": {
   "display_name": "Python 3 (ipykernel)",
   "language": "python",
   "name": "python3"
  },
  "language_info": {
   "codemirror_mode": {
    "name": "ipython",
    "version": 3
   },
   "file_extension": ".py",
   "mimetype": "text/x-python",
   "name": "python",
   "nbconvert_exporter": "python",
   "pygments_lexer": "ipython3",
   "version": "3.10.9"
  }
 },
 "nbformat": 4,
 "nbformat_minor": 5
}
